{
 "cells": [
  {
   "cell_type": "code",
   "execution_count": 1,
   "metadata": {
    "colab": {
     "base_uri": "https://localhost:8080/",
     "height": 391
    },
    "id": "rtZANbgFV5-W",
    "outputId": "0a35f290-c20c-4315-c933-90be090afcaa"
   },
   "outputs": [
    {
     "name": "stdout",
     "output_type": "stream",
     "text": [
      "Sat Oct 17 12:51:31 2020       \n",
      "+-----------------------------------------------------------------------------+\n",
      "| NVIDIA-SMI 455.23.05    Driver Version: 418.67       CUDA Version: 10.1     |\n",
      "|-------------------------------+----------------------+----------------------+\n",
      "| GPU  Name        Persistence-M| Bus-Id        Disp.A | Volatile Uncorr. ECC |\n",
      "| Fan  Temp  Perf  Pwr:Usage/Cap|         Memory-Usage | GPU-Util  Compute M. |\n",
      "|                               |                      |               MIG M. |\n",
      "|===============================+======================+======================|\n",
      "|   0  Tesla P100-PCIE...  Off  | 00000000:00:04.0 Off |                    0 |\n",
      "| N/A   37C    P0    25W / 250W |      0MiB / 16280MiB |      0%      Default |\n",
      "|                               |                      |                 ERR! |\n",
      "+-------------------------------+----------------------+----------------------+\n",
      "                                                                               \n",
      "+-----------------------------------------------------------------------------+\n",
      "| Processes:                                                                  |\n",
      "|  GPU   GI   CI        PID   Type   Process name                  GPU Memory |\n",
      "|        ID   ID                                                   Usage      |\n",
      "|=============================================================================|\n",
      "|  No running processes found                                                 |\n",
      "+-----------------------------------------------------------------------------+\n"
     ]
    }
   ],
   "source": [
    "!nvidia-smi"
   ]
  },
  {
   "cell_type": "code",
   "execution_count": 2,
   "metadata": {
    "colab": {
     "base_uri": "https://localhost:8080/",
     "height": 148
    },
    "id": "yCi5CI9zIDo4",
    "outputId": "efad0677-5a47-4e21-ab07-f31f2546f0fa"
   },
   "outputs": [
    {
     "name": "stdout",
     "output_type": "stream",
     "text": [
      "Cloning into 'ezio'...\n",
      "remote: Enumerating objects: 80, done.\u001b[K\n",
      "remote: Counting objects: 100% (80/80), done.\u001b[K\n",
      "remote: Compressing objects: 100% (60/60), done.\u001b[K\n",
      "remote: Total 437 (delta 25), reused 56 (delta 12), pack-reused 357\u001b[K\n",
      "Receiving objects: 100% (437/437), 10.45 MiB | 25.42 MiB/s, done.\n",
      "Resolving deltas: 100% (170/170), done.\n"
     ]
    }
   ],
   "source": [
    "!git clone https://github.com/swapniel99/ezio.git"
   ]
  },
  {
   "cell_type": "code",
   "execution_count": 3,
   "metadata": {
    "colab": {
     "base_uri": "https://localhost:8080/",
     "height": 36
    },
    "id": "tx_o6ZIgTfQa",
    "outputId": "b4788550-dbd3-4e5d-fee6-223417a64d23"
   },
   "outputs": [
    {
     "name": "stdout",
     "output_type": "stream",
     "text": [
      "/content/ezio\n"
     ]
    }
   ],
   "source": [
    "%cd ezio"
   ]
  },
  {
   "cell_type": "code",
   "execution_count": 7,
   "metadata": {
    "colab": {
     "base_uri": "https://localhost:8080/",
     "height": 36
    },
    "id": "cm6uGzxGI9tA",
    "outputId": "be3d0f9c-4c46-4f23-cfc4-c26463dc7aee"
   },
   "outputs": [
    {
     "name": "stdout",
     "output_type": "stream",
     "text": [
      "Requirement already satisfied: torchsummary in /usr/local/lib/python3.6/dist-packages (1.5.1)\n"
     ]
    }
   ],
   "source": [
    "import torch\n",
    "import torch.optim as optim\n",
    "from tqdm import tqdm\n",
    "import numpy as np\n",
    "\n",
    "!pip install torchsummary\n",
    "from torchsummary import summary\n",
    "\n",
    "from ezio.data import dataset \n",
    "from ezio.data.data_transforms.session_11 import transformations\n",
    "from ezio.runner import engine\n",
    "from ezio.utils import loss, lr_finder\n",
    "from ezio.utils.misclassified_images import misclassified_images\n",
    "from ezio.data.datasets import tinyImageNet"
   ]
  },
  {
   "cell_type": "code",
   "execution_count": 8,
   "metadata": {
    "colab": {
     "base_uri": "https://localhost:8080/",
     "height": 801
    },
    "id": "Yd52bYjIJsFT",
    "outputId": "60b035cf-6945-400d-f2ed-744f068154db"
   },
   "outputs": [
    {
     "name": "stdout",
     "output_type": "stream",
     "text": [
      "Collecting albumentations\n",
      "\u001b[?25l  Downloading https://files.pythonhosted.org/packages/92/33/1c459c2c9a4028ec75527eff88bc4e2d256555189f42af4baf4d7bd89233/albumentations-0.4.6.tar.gz (117kB)\n",
      "\u001b[K     |████████████████████████████████| 122kB 4.3MB/s \n",
      "\u001b[?25hRequirement already satisfied, skipping upgrade: numpy>=1.11.1 in /usr/local/lib/python3.6/dist-packages (from albumentations) (1.18.5)\n",
      "Requirement already satisfied, skipping upgrade: scipy in /usr/local/lib/python3.6/dist-packages (from albumentations) (1.4.1)\n",
      "Collecting imgaug>=0.4.0\n",
      "\u001b[?25l  Downloading https://files.pythonhosted.org/packages/66/b1/af3142c4a85cba6da9f4ebb5ff4e21e2616309552caca5e8acefe9840622/imgaug-0.4.0-py2.py3-none-any.whl (948kB)\n",
      "\u001b[K     |████████████████████████████████| 952kB 6.1MB/s \n",
      "\u001b[?25hRequirement already satisfied, skipping upgrade: PyYAML in /usr/local/lib/python3.6/dist-packages (from albumentations) (3.13)\n",
      "Requirement already satisfied, skipping upgrade: opencv-python>=4.1.1 in /usr/local/lib/python3.6/dist-packages (from albumentations) (4.1.2.30)\n",
      "Requirement already satisfied, skipping upgrade: matplotlib in /usr/local/lib/python3.6/dist-packages (from imgaug>=0.4.0->albumentations) (3.2.2)\n",
      "Requirement already satisfied, skipping upgrade: Shapely in /usr/local/lib/python3.6/dist-packages (from imgaug>=0.4.0->albumentations) (1.7.1)\n",
      "Requirement already satisfied, skipping upgrade: Pillow in /usr/local/lib/python3.6/dist-packages (from imgaug>=0.4.0->albumentations) (7.0.0)\n",
      "Requirement already satisfied, skipping upgrade: six in /usr/local/lib/python3.6/dist-packages (from imgaug>=0.4.0->albumentations) (1.15.0)\n",
      "Requirement already satisfied, skipping upgrade: imageio in /usr/local/lib/python3.6/dist-packages (from imgaug>=0.4.0->albumentations) (2.4.1)\n",
      "Requirement already satisfied, skipping upgrade: scikit-image>=0.14.2 in /usr/local/lib/python3.6/dist-packages (from imgaug>=0.4.0->albumentations) (0.16.2)\n",
      "Requirement already satisfied, skipping upgrade: cycler>=0.10 in /usr/local/lib/python3.6/dist-packages (from matplotlib->imgaug>=0.4.0->albumentations) (0.10.0)\n",
      "Requirement already satisfied, skipping upgrade: kiwisolver>=1.0.1 in /usr/local/lib/python3.6/dist-packages (from matplotlib->imgaug>=0.4.0->albumentations) (1.2.0)\n",
      "Requirement already satisfied, skipping upgrade: pyparsing!=2.0.4,!=2.1.2,!=2.1.6,>=2.0.1 in /usr/local/lib/python3.6/dist-packages (from matplotlib->imgaug>=0.4.0->albumentations) (2.4.7)\n",
      "Requirement already satisfied, skipping upgrade: python-dateutil>=2.1 in /usr/local/lib/python3.6/dist-packages (from matplotlib->imgaug>=0.4.0->albumentations) (2.8.1)\n",
      "Requirement already satisfied, skipping upgrade: networkx>=2.0 in /usr/local/lib/python3.6/dist-packages (from scikit-image>=0.14.2->imgaug>=0.4.0->albumentations) (2.5)\n",
      "Requirement already satisfied, skipping upgrade: PyWavelets>=0.4.0 in /usr/local/lib/python3.6/dist-packages (from scikit-image>=0.14.2->imgaug>=0.4.0->albumentations) (1.1.1)\n",
      "Requirement already satisfied, skipping upgrade: decorator>=4.3.0 in /usr/local/lib/python3.6/dist-packages (from networkx>=2.0->scikit-image>=0.14.2->imgaug>=0.4.0->albumentations) (4.4.2)\n",
      "Building wheels for collected packages: albumentations\n",
      "  Building wheel for albumentations (setup.py) ... \u001b[?25l\u001b[?25hdone\n",
      "  Created wheel for albumentations: filename=albumentations-0.4.6-cp36-none-any.whl size=65165 sha256=7cd48b04a7a5af7f3f65ba5763e136e401b6479d570f06ed4730f70e3f645db4\n",
      "  Stored in directory: /root/.cache/pip/wheels/c7/f4/89/56d1bee5c421c36c1a951eeb4adcc32fbb82f5344c086efa14\n",
      "Successfully built albumentations\n",
      "Installing collected packages: imgaug, albumentations\n",
      "  Found existing installation: imgaug 0.2.9\n",
      "    Uninstalling imgaug-0.2.9:\n",
      "      Successfully uninstalled imgaug-0.2.9\n",
      "  Found existing installation: albumentations 0.1.12\n",
      "    Uninstalling albumentations-0.1.12:\n",
      "      Successfully uninstalled albumentations-0.1.12\n",
      "Successfully installed albumentations-0.4.6 imgaug-0.4.0\n"
     ]
    },
    {
     "data": {
      "application/vnd.colab-display-data+json": {
       "pip_warning": {
        "packages": [
         "albumentations",
         "imgaug"
        ]
       }
      }
     },
     "metadata": {
      "tags": []
     },
     "output_type": "display_data"
    }
   ],
   "source": [
    "!pip install -U albumentations"
   ]
  },
  {
   "cell_type": "code",
   "execution_count": 9,
   "metadata": {
    "id": "LOXjESp5KR9V"
   },
   "outputs": [],
   "source": [
    "train_transforms = transformations.perform_transformations(train=True, is_numpy=True)\n",
    "test_transforms = transformations.perform_transformations(train=False, is_numpy=True)"
   ]
  },
  {
   "cell_type": "code",
   "execution_count": 10,
   "metadata": {
    "colab": {
     "base_uri": "https://localhost:8080/",
     "height": 188,
     "referenced_widgets": [
      "2305c89e50ac4ff597a5e73687e2bfa3",
      "1d595ab5814d4b5d815b8240b81eee16",
      "612cd198a6fc4f5ca7b110e7b0d62a34",
      "da237f4bfbb24774a5927ccb96871d8a",
      "6ebfd906284b4f3897165157827db7ea",
      "3ad2aa3f299b4014a6624351fd95884f",
      "a116039f158548168963993e48cdc8c2",
      "24ad5e8eb71b479da2410019f2f94857",
      "25d322fddad64ea1bfd1c8eace76daaf",
      "af5f2e99a295455f981870e675df9248",
      "2091a96a122448a3b4f3440fae581a4a",
      "b7a5b820db4a4e338f4879272065ae2a",
      "a53c154593a049c4bc90c854b7810797",
      "85b6e7b29511490b8fa68a08dd079a96",
      "ccaeac524d804773987e478428ea7a4b",
      "acaa0418a4934ec3a59865e89233feb0",
      "ede601959178494883482dfe45e24ab5",
      "7745c6d64ccb4eacbe3841c0bacfab68",
      "c7098701654a4f7689b906197103453d",
      "56d15ce40d804c708f929cad3e9fc154",
      "abad4cd6e6194c308d38760aec8d7c97",
      "298dc52bdae64abf9f6ac97436f3d72a",
      "17fb8f8a32314315a17df263d8c475b8",
      "5c390beb80f54453a4abf0f4f08a9472"
     ]
    },
    "id": "V87hjn7SKSUr",
    "outputId": "433a3959-6116-48d8-9de4-68e62c30af07"
   },
   "outputs": [
    {
     "name": "stdout",
     "output_type": "stream",
     "text": [
      "Downloading TinyImageNet Data\n"
     ]
    },
    {
     "data": {
      "application/vnd.jupyter.widget-view+json": {
       "model_id": "2305c89e50ac4ff597a5e73687e2bfa3",
       "version_major": 2,
       "version_minor": 0
      },
      "text/plain": [
       "HBox(children=(FloatProgress(value=0.0, max=120609.0), HTML(value='')))"
      ]
     },
     "metadata": {
      "tags": []
     },
     "output_type": "display_data"
    },
    {
     "name": "stdout",
     "output_type": "stream",
     "text": [
      "\n"
     ]
    },
    {
     "data": {
      "application/vnd.jupyter.widget-view+json": {
       "model_id": "25d322fddad64ea1bfd1c8eace76daaf",
       "version_major": 2,
       "version_minor": 0
      },
      "text/plain": [
       "HBox(children=(FloatProgress(value=0.0, description='Loading Train Folder', max=200.0, style=ProgressStyle(des…"
      ]
     },
     "metadata": {
      "tags": []
     },
     "output_type": "display_data"
    },
    {
     "name": "stdout",
     "output_type": "stream",
     "text": [
      "\n"
     ]
    },
    {
     "data": {
      "application/vnd.jupyter.widget-view+json": {
       "model_id": "ede601959178494883482dfe45e24ab5",
       "version_major": 2,
       "version_minor": 0
      },
      "text/plain": [
       "HBox(children=(FloatProgress(value=0.0, description='Loading Test Folder', max=10000.0, style=ProgressStyle(de…"
      ]
     },
     "metadata": {
      "tags": []
     },
     "output_type": "display_data"
    },
    {
     "name": "stdout",
     "output_type": "stream",
     "text": [
      "\n"
     ]
    }
   ],
   "source": [
    "train_set , test_set, classes = tinyImageNet.tinyImageNetDataSet(train_split = 70, test_transforms = test_transforms,train_transforms = train_transforms)"
   ]
  },
  {
   "cell_type": "code",
   "execution_count": 11,
   "metadata": {
    "id": "Eo9RW8j6JUMg"
   },
   "outputs": [],
   "source": [
    "use_cuda = torch.cuda.is_available()\n",
    "device = torch.device(\"cuda\" if use_cuda else \"cpu\")"
   ]
  },
  {
   "cell_type": "code",
   "execution_count": 12,
   "metadata": {
    "id": "HxnC4-hXJZr9"
   },
   "outputs": [],
   "source": [
    "train_loader, test_loader = dataset.create_loaders(train_set, train_set, train_batch_size= 256, valid_batch_size= 256, num_workers=4)"
   ]
  },
  {
   "cell_type": "code",
   "execution_count": 13,
   "metadata": {
    "id": "qWrX4qUPKjk1"
   },
   "outputs": [],
   "source": [
    "from ezio.model.session_12.model import ResNet18\n",
    "model = ResNet18(num_classes = 200).to(device)"
   ]
  },
  {
   "cell_type": "code",
   "execution_count": 14,
   "metadata": {
    "colab": {
     "base_uri": "https://localhost:8080/",
     "height": 1000
    },
    "id": "h8TbHHaPKxTs",
    "outputId": "3260b882-b71e-473a-cdc2-4ed3d196f84b"
   },
   "outputs": [
    {
     "name": "stdout",
     "output_type": "stream",
     "text": [
      "----------------------------------------------------------------\n",
      "        Layer (type)               Output Shape         Param #\n",
      "================================================================\n",
      "            Conv2d-1           [-1, 64, 64, 64]           1,728\n",
      "       BatchNorm2d-2           [-1, 64, 64, 64]             128\n",
      "            Conv2d-3           [-1, 64, 64, 64]          36,864\n",
      "       BatchNorm2d-4           [-1, 64, 64, 64]             128\n",
      "            Conv2d-5           [-1, 64, 64, 64]          36,864\n",
      "       BatchNorm2d-6           [-1, 64, 64, 64]             128\n",
      "        BasicBlock-7           [-1, 64, 64, 64]               0\n",
      "            Conv2d-8           [-1, 64, 64, 64]          36,864\n",
      "       BatchNorm2d-9           [-1, 64, 64, 64]             128\n",
      "           Conv2d-10           [-1, 64, 64, 64]          36,864\n",
      "      BatchNorm2d-11           [-1, 64, 64, 64]             128\n",
      "       BasicBlock-12           [-1, 64, 64, 64]               0\n",
      "           Conv2d-13          [-1, 128, 32, 32]          73,728\n",
      "      BatchNorm2d-14          [-1, 128, 32, 32]             256\n",
      "           Conv2d-15          [-1, 128, 32, 32]         147,456\n",
      "      BatchNorm2d-16          [-1, 128, 32, 32]             256\n",
      "           Conv2d-17          [-1, 128, 32, 32]           8,192\n",
      "      BatchNorm2d-18          [-1, 128, 32, 32]             256\n",
      "       BasicBlock-19          [-1, 128, 32, 32]               0\n",
      "           Conv2d-20          [-1, 128, 32, 32]         147,456\n",
      "      BatchNorm2d-21          [-1, 128, 32, 32]             256\n",
      "           Conv2d-22          [-1, 128, 32, 32]         147,456\n",
      "      BatchNorm2d-23          [-1, 128, 32, 32]             256\n",
      "       BasicBlock-24          [-1, 128, 32, 32]               0\n",
      "           Conv2d-25          [-1, 256, 16, 16]         294,912\n",
      "      BatchNorm2d-26          [-1, 256, 16, 16]             512\n",
      "           Conv2d-27          [-1, 256, 16, 16]         589,824\n",
      "      BatchNorm2d-28          [-1, 256, 16, 16]             512\n",
      "           Conv2d-29          [-1, 256, 16, 16]          32,768\n",
      "      BatchNorm2d-30          [-1, 256, 16, 16]             512\n",
      "       BasicBlock-31          [-1, 256, 16, 16]               0\n",
      "           Conv2d-32          [-1, 256, 16, 16]         589,824\n",
      "      BatchNorm2d-33          [-1, 256, 16, 16]             512\n",
      "           Conv2d-34          [-1, 256, 16, 16]         589,824\n",
      "      BatchNorm2d-35          [-1, 256, 16, 16]             512\n",
      "       BasicBlock-36          [-1, 256, 16, 16]               0\n",
      "           Conv2d-37            [-1, 512, 8, 8]       1,179,648\n",
      "      BatchNorm2d-38            [-1, 512, 8, 8]           1,024\n",
      "           Conv2d-39            [-1, 512, 8, 8]       2,359,296\n",
      "      BatchNorm2d-40            [-1, 512, 8, 8]           1,024\n",
      "           Conv2d-41            [-1, 512, 8, 8]         131,072\n",
      "      BatchNorm2d-42            [-1, 512, 8, 8]           1,024\n",
      "       BasicBlock-43            [-1, 512, 8, 8]               0\n",
      "           Conv2d-44            [-1, 512, 8, 8]       2,359,296\n",
      "      BatchNorm2d-45            [-1, 512, 8, 8]           1,024\n",
      "           Conv2d-46            [-1, 512, 8, 8]       2,359,296\n",
      "      BatchNorm2d-47            [-1, 512, 8, 8]           1,024\n",
      "       BasicBlock-48            [-1, 512, 8, 8]               0\n",
      "           Linear-49                  [-1, 200]         102,600\n",
      "================================================================\n",
      "Total params: 11,271,432\n",
      "Trainable params: 11,271,432\n",
      "Non-trainable params: 0\n",
      "----------------------------------------------------------------\n",
      "Input size (MB): 0.05\n",
      "Forward/backward pass size (MB): 45.00\n",
      "Params size (MB): 43.00\n",
      "Estimated Total Size (MB): 88.05\n",
      "----------------------------------------------------------------\n"
     ]
    }
   ],
   "source": [
    "summary(model, input_size=(3, 64, 64))"
   ]
  },
  {
   "cell_type": "code",
   "execution_count": 15,
   "metadata": {
    "id": "CZ-K_AHxK28O"
   },
   "outputs": [],
   "source": [
    "loss_function = loss.cross_entropy_loss()"
   ]
  },
  {
   "cell_type": "code",
   "execution_count": 16,
   "metadata": {
    "id": "Rmg-tba1TEV6"
   },
   "outputs": [],
   "source": [
    "optimizer = optim.SGD(model.parameters(), lr=0.045, momentum=0.9)\n",
    "scheduler = optim.lr_scheduler.ReduceLROnPlateau(optimizer, patience=2, verbose=True, factor=0.5)"
   ]
  },
  {
   "cell_type": "code",
   "execution_count": 17,
   "metadata": {
    "colab": {
     "base_uri": "https://localhost:8080/",
     "height": 1000
    },
    "id": "Ee7-Lr1tK9R7",
    "outputId": "1c3904d5-8bc8-4aee-ccb0-2c51aa6d83bb"
   },
   "outputs": [
    {
     "name": "stderr",
     "output_type": "stream",
     "text": [
      "\r",
      "  0%|          | 0/301 [00:00<?, ?it/s]"
     ]
    },
    {
     "name": "stdout",
     "output_type": "stream",
     "text": [
      "EPOCH: 1\n"
     ]
    },
    {
     "name": "stderr",
     "output_type": "stream",
     "text": [
      "Loss=4.634349822998047 Batch_id=300 Accuracy=4.00 Learning Rate=0.045: 100%|██████████| 301/301 [00:40<00:00,  7.39it/s]\n",
      "  0%|          | 0/301 [00:00<?, ?it/s]"
     ]
    },
    {
     "name": "stdout",
     "output_type": "stream",
     "text": [
      "\n",
      "Test set: Average loss: 0.0181, Accuracy: 4925/77000 (6.40%)\n",
      "\n",
      "EPOCH: 2\n"
     ]
    },
    {
     "name": "stderr",
     "output_type": "stream",
     "text": [
      "Loss=4.198113918304443 Batch_id=300 Accuracy=9.00 Learning Rate=0.045: 100%|██████████| 301/301 [00:40<00:00,  7.40it/s]\n",
      "  0%|          | 0/301 [00:00<?, ?it/s]"
     ]
    },
    {
     "name": "stdout",
     "output_type": "stream",
     "text": [
      "\n",
      "Test set: Average loss: 0.0171, Accuracy: 7087/77000 (9.20%)\n",
      "\n",
      "EPOCH: 3\n"
     ]
    },
    {
     "name": "stderr",
     "output_type": "stream",
     "text": [
      "Loss=4.115222930908203 Batch_id=300 Accuracy=12.00 Learning Rate=0.045: 100%|██████████| 301/301 [00:40<00:00,  7.40it/s]\n",
      "  0%|          | 0/301 [00:00<?, ?it/s]"
     ]
    },
    {
     "name": "stdout",
     "output_type": "stream",
     "text": [
      "\n",
      "Test set: Average loss: 0.0162, Accuracy: 9395/77000 (12.20%)\n",
      "\n",
      "EPOCH: 4\n"
     ]
    },
    {
     "name": "stderr",
     "output_type": "stream",
     "text": [
      "Loss=3.731496810913086 Batch_id=300 Accuracy=15.00 Learning Rate=0.045: 100%|██████████| 301/301 [00:40<00:00,  7.40it/s]\n",
      "  0%|          | 0/301 [00:00<?, ?it/s]"
     ]
    },
    {
     "name": "stdout",
     "output_type": "stream",
     "text": [
      "\n",
      "Test set: Average loss: 0.0152, Accuracy: 12004/77000 (15.59%)\n",
      "\n",
      "EPOCH: 5\n"
     ]
    },
    {
     "name": "stderr",
     "output_type": "stream",
     "text": [
      "Loss=3.727292776107788 Batch_id=300 Accuracy=18.00 Learning Rate=0.045: 100%|██████████| 301/301 [00:40<00:00,  7.39it/s]\n",
      "  0%|          | 0/301 [00:00<?, ?it/s]"
     ]
    },
    {
     "name": "stdout",
     "output_type": "stream",
     "text": [
      "\n",
      "Test set: Average loss: 0.0144, Accuracy: 14357/77000 (18.65%)\n",
      "\n",
      "EPOCH: 6\n"
     ]
    },
    {
     "name": "stderr",
     "output_type": "stream",
     "text": [
      "Loss=3.397216558456421 Batch_id=300 Accuracy=20.00 Learning Rate=0.045: 100%|██████████| 301/301 [00:40<00:00,  7.40it/s]\n",
      "  0%|          | 0/301 [00:00<?, ?it/s]"
     ]
    },
    {
     "name": "stdout",
     "output_type": "stream",
     "text": [
      "\n",
      "Test set: Average loss: 0.0137, Accuracy: 16638/77000 (21.61%)\n",
      "\n",
      "EPOCH: 7\n"
     ]
    },
    {
     "name": "stderr",
     "output_type": "stream",
     "text": [
      "Loss=3.4438469409942627 Batch_id=300 Accuracy=22.00 Learning Rate=0.045: 100%|██████████| 301/301 [00:40<00:00,  7.39it/s]\n",
      "  0%|          | 0/301 [00:00<?, ?it/s]"
     ]
    },
    {
     "name": "stdout",
     "output_type": "stream",
     "text": [
      "\n",
      "Test set: Average loss: 0.0134, Accuracy: 17654/77000 (22.93%)\n",
      "\n",
      "EPOCH: 8\n"
     ]
    },
    {
     "name": "stderr",
     "output_type": "stream",
     "text": [
      "Loss=3.21006441116333 Batch_id=300 Accuracy=24.00 Learning Rate=0.045: 100%|██████████| 301/301 [00:40<00:00,  7.38it/s]\n",
      "  0%|          | 0/301 [00:00<?, ?it/s]"
     ]
    },
    {
     "name": "stdout",
     "output_type": "stream",
     "text": [
      "\n",
      "Test set: Average loss: 0.0134, Accuracy: 18446/77000 (23.96%)\n",
      "\n",
      "EPOCH: 9\n"
     ]
    },
    {
     "name": "stderr",
     "output_type": "stream",
     "text": [
      "Loss=3.416682481765747 Batch_id=300 Accuracy=25.00 Learning Rate=0.045: 100%|██████████| 301/301 [00:40<00:00,  7.36it/s]\n",
      "  0%|          | 0/301 [00:00<?, ?it/s]"
     ]
    },
    {
     "name": "stdout",
     "output_type": "stream",
     "text": [
      "\n",
      "Test set: Average loss: 0.0131, Accuracy: 18963/77000 (24.63%)\n",
      "\n",
      "EPOCH: 10\n"
     ]
    },
    {
     "name": "stderr",
     "output_type": "stream",
     "text": [
      "Loss=3.2736172676086426 Batch_id=300 Accuracy=26.00 Learning Rate=0.045: 100%|██████████| 301/301 [00:40<00:00,  7.37it/s]\n",
      "  0%|          | 0/301 [00:00<?, ?it/s]"
     ]
    },
    {
     "name": "stdout",
     "output_type": "stream",
     "text": [
      "\n",
      "Test set: Average loss: 0.0126, Accuracy: 20533/77000 (26.67%)\n",
      "\n",
      "EPOCH: 11\n"
     ]
    },
    {
     "name": "stderr",
     "output_type": "stream",
     "text": [
      "Loss=2.9435412883758545 Batch_id=300 Accuracy=28.00 Learning Rate=0.045: 100%|██████████| 301/301 [00:40<00:00,  7.37it/s]\n",
      "  0%|          | 0/301 [00:00<?, ?it/s]"
     ]
    },
    {
     "name": "stdout",
     "output_type": "stream",
     "text": [
      "\n",
      "Test set: Average loss: 0.0124, Accuracy: 21358/77000 (27.74%)\n",
      "\n",
      "EPOCH: 12\n"
     ]
    },
    {
     "name": "stderr",
     "output_type": "stream",
     "text": [
      "Loss=3.102433204650879 Batch_id=300 Accuracy=29.00 Learning Rate=0.045: 100%|██████████| 301/301 [00:40<00:00,  7.37it/s]\n",
      "  0%|          | 0/301 [00:00<?, ?it/s]"
     ]
    },
    {
     "name": "stdout",
     "output_type": "stream",
     "text": [
      "\n",
      "Test set: Average loss: 0.0118, Accuracy: 23236/77000 (30.18%)\n",
      "\n",
      "EPOCH: 13\n"
     ]
    },
    {
     "name": "stderr",
     "output_type": "stream",
     "text": [
      "Loss=3.0127289295196533 Batch_id=300 Accuracy=30.00 Learning Rate=0.045: 100%|██████████| 301/301 [00:40<00:00,  7.38it/s]\n",
      "  0%|          | 0/301 [00:00<?, ?it/s]"
     ]
    },
    {
     "name": "stdout",
     "output_type": "stream",
     "text": [
      "\n",
      "Test set: Average loss: 0.0119, Accuracy: 23137/77000 (30.05%)\n",
      "\n",
      "EPOCH: 14\n"
     ]
    },
    {
     "name": "stderr",
     "output_type": "stream",
     "text": [
      "Loss=3.109821081161499 Batch_id=300 Accuracy=31.00 Learning Rate=0.045: 100%|██████████| 301/301 [00:40<00:00,  7.40it/s]\n",
      "  0%|          | 0/301 [00:00<?, ?it/s]"
     ]
    },
    {
     "name": "stdout",
     "output_type": "stream",
     "text": [
      "\n",
      "Test set: Average loss: 0.0112, Accuracy: 25298/77000 (32.85%)\n",
      "\n",
      "EPOCH: 15\n"
     ]
    },
    {
     "name": "stderr",
     "output_type": "stream",
     "text": [
      "Loss=2.8613176345825195 Batch_id=300 Accuracy=32.00 Learning Rate=0.045: 100%|██████████| 301/301 [00:40<00:00,  7.40it/s]\n",
      "  0%|          | 0/301 [00:00<?, ?it/s]"
     ]
    },
    {
     "name": "stdout",
     "output_type": "stream",
     "text": [
      "\n",
      "Test set: Average loss: 0.0113, Accuracy: 25449/77000 (33.05%)\n",
      "\n",
      "EPOCH: 16\n"
     ]
    },
    {
     "name": "stderr",
     "output_type": "stream",
     "text": [
      "Loss=2.8132901191711426 Batch_id=300 Accuracy=33.00 Learning Rate=0.045: 100%|██████████| 301/301 [00:40<00:00,  7.41it/s]\n",
      "  0%|          | 0/301 [00:00<?, ?it/s]"
     ]
    },
    {
     "name": "stdout",
     "output_type": "stream",
     "text": [
      "\n",
      "Test set: Average loss: 0.0109, Accuracy: 26579/77000 (34.52%)\n",
      "\n",
      "EPOCH: 17\n"
     ]
    },
    {
     "name": "stderr",
     "output_type": "stream",
     "text": [
      "Loss=2.6204030513763428 Batch_id=300 Accuracy=34.00 Learning Rate=0.045: 100%|██████████| 301/301 [00:40<00:00,  7.41it/s]\n",
      "  0%|          | 0/301 [00:00<?, ?it/s]"
     ]
    },
    {
     "name": "stdout",
     "output_type": "stream",
     "text": [
      "\n",
      "Test set: Average loss: 0.0109, Accuracy: 26752/77000 (34.74%)\n",
      "\n",
      "EPOCH: 18\n"
     ]
    },
    {
     "name": "stderr",
     "output_type": "stream",
     "text": [
      "Loss=2.7208199501037598 Batch_id=300 Accuracy=35.00 Learning Rate=0.045: 100%|██████████| 301/301 [00:40<00:00,  7.40it/s]\n",
      "  0%|          | 0/301 [00:00<?, ?it/s]"
     ]
    },
    {
     "name": "stdout",
     "output_type": "stream",
     "text": [
      "\n",
      "Test set: Average loss: 0.0106, Accuracy: 27685/77000 (35.95%)\n",
      "\n",
      "EPOCH: 19\n"
     ]
    },
    {
     "name": "stderr",
     "output_type": "stream",
     "text": [
      "Loss=2.8741400241851807 Batch_id=300 Accuracy=36.00 Learning Rate=0.045: 100%|██████████| 301/301 [00:40<00:00,  7.39it/s]\n",
      "  0%|          | 0/301 [00:00<?, ?it/s]"
     ]
    },
    {
     "name": "stdout",
     "output_type": "stream",
     "text": [
      "\n",
      "Test set: Average loss: 0.0106, Accuracy: 27977/77000 (36.33%)\n",
      "\n",
      "EPOCH: 20\n"
     ]
    },
    {
     "name": "stderr",
     "output_type": "stream",
     "text": [
      "Loss=2.6527419090270996 Batch_id=300 Accuracy=37.00 Learning Rate=0.045: 100%|██████████| 301/301 [00:40<00:00,  7.41it/s]\n",
      "  0%|          | 0/301 [00:00<?, ?it/s]"
     ]
    },
    {
     "name": "stdout",
     "output_type": "stream",
     "text": [
      "\n",
      "Test set: Average loss: 0.0101, Accuracy: 29444/77000 (38.24%)\n",
      "\n",
      "EPOCH: 21\n"
     ]
    },
    {
     "name": "stderr",
     "output_type": "stream",
     "text": [
      "Loss=2.6346020698547363 Batch_id=300 Accuracy=38.00 Learning Rate=0.045: 100%|██████████| 301/301 [00:40<00:00,  7.40it/s]\n",
      "  0%|          | 0/301 [00:00<?, ?it/s]"
     ]
    },
    {
     "name": "stdout",
     "output_type": "stream",
     "text": [
      "\n",
      "Test set: Average loss: 0.0101, Accuracy: 29757/77000 (38.65%)\n",
      "\n",
      "EPOCH: 22\n"
     ]
    },
    {
     "name": "stderr",
     "output_type": "stream",
     "text": [
      "Loss=2.6377243995666504 Batch_id=300 Accuracy=39.00 Learning Rate=0.045: 100%|██████████| 301/301 [00:40<00:00,  7.40it/s]\n",
      "  0%|          | 0/301 [00:00<?, ?it/s]"
     ]
    },
    {
     "name": "stdout",
     "output_type": "stream",
     "text": [
      "\n",
      "Test set: Average loss: 0.0101, Accuracy: 29688/77000 (38.56%)\n",
      "\n",
      "EPOCH: 23\n"
     ]
    },
    {
     "name": "stderr",
     "output_type": "stream",
     "text": [
      "Loss=2.6441004276275635 Batch_id=300 Accuracy=39.00 Learning Rate=0.045: 100%|██████████| 301/301 [00:40<00:00,  7.39it/s]\n",
      "  0%|          | 0/301 [00:00<?, ?it/s]"
     ]
    },
    {
     "name": "stdout",
     "output_type": "stream",
     "text": [
      "\n",
      "Test set: Average loss: 0.0098, Accuracy: 30724/77000 (39.90%)\n",
      "\n",
      "EPOCH: 24\n"
     ]
    },
    {
     "name": "stderr",
     "output_type": "stream",
     "text": [
      "Loss=2.6573498249053955 Batch_id=300 Accuracy=40.00 Learning Rate=0.045: 100%|██████████| 301/301 [00:40<00:00,  7.40it/s]\n",
      "  0%|          | 0/301 [00:00<?, ?it/s]"
     ]
    },
    {
     "name": "stdout",
     "output_type": "stream",
     "text": [
      "\n",
      "Test set: Average loss: 0.0096, Accuracy: 32042/77000 (41.61%)\n",
      "\n",
      "EPOCH: 25\n"
     ]
    },
    {
     "name": "stderr",
     "output_type": "stream",
     "text": [
      "Loss=2.6034810543060303 Batch_id=300 Accuracy=40.00 Learning Rate=0.045: 100%|██████████| 301/301 [00:40<00:00,  7.40it/s]\n",
      "  0%|          | 0/301 [00:00<?, ?it/s]"
     ]
    },
    {
     "name": "stdout",
     "output_type": "stream",
     "text": [
      "\n",
      "Test set: Average loss: 0.0094, Accuracy: 32420/77000 (42.10%)\n",
      "\n",
      "EPOCH: 26\n"
     ]
    },
    {
     "name": "stderr",
     "output_type": "stream",
     "text": [
      "Loss=2.412377119064331 Batch_id=300 Accuracy=41.00 Learning Rate=0.045: 100%|██████████| 301/301 [00:40<00:00,  7.41it/s]\n",
      "  0%|          | 0/301 [00:00<?, ?it/s]"
     ]
    },
    {
     "name": "stdout",
     "output_type": "stream",
     "text": [
      "\n",
      "Test set: Average loss: 0.0093, Accuracy: 32591/77000 (42.33%)\n",
      "\n",
      "EPOCH: 27\n"
     ]
    },
    {
     "name": "stderr",
     "output_type": "stream",
     "text": [
      "Loss=2.2562904357910156 Batch_id=300 Accuracy=42.00 Learning Rate=0.045: 100%|██████████| 301/301 [00:40<00:00,  7.38it/s]\n",
      "  0%|          | 0/301 [00:00<?, ?it/s]"
     ]
    },
    {
     "name": "stdout",
     "output_type": "stream",
     "text": [
      "\n",
      "Test set: Average loss: 0.0092, Accuracy: 33458/77000 (43.45%)\n",
      "\n",
      "EPOCH: 28\n"
     ]
    },
    {
     "name": "stderr",
     "output_type": "stream",
     "text": [
      "Loss=2.5649142265319824 Batch_id=300 Accuracy=43.00 Learning Rate=0.045: 100%|██████████| 301/301 [00:40<00:00,  7.39it/s]\n",
      "  0%|          | 0/301 [00:00<?, ?it/s]"
     ]
    },
    {
     "name": "stdout",
     "output_type": "stream",
     "text": [
      "\n",
      "Test set: Average loss: 0.0089, Accuracy: 34600/77000 (44.94%)\n",
      "\n",
      "EPOCH: 29\n"
     ]
    },
    {
     "name": "stderr",
     "output_type": "stream",
     "text": [
      "Loss=2.4434986114501953 Batch_id=300 Accuracy=44.00 Learning Rate=0.045: 100%|██████████| 301/301 [00:41<00:00,  7.33it/s]\n",
      "  0%|          | 0/301 [00:00<?, ?it/s]"
     ]
    },
    {
     "name": "stdout",
     "output_type": "stream",
     "text": [
      "\n",
      "Test set: Average loss: 0.0087, Accuracy: 35008/77000 (45.46%)\n",
      "\n",
      "EPOCH: 30\n"
     ]
    },
    {
     "name": "stderr",
     "output_type": "stream",
     "text": [
      "Loss=2.2495670318603516 Batch_id=300 Accuracy=44.00 Learning Rate=0.045: 100%|██████████| 301/301 [00:40<00:00,  7.39it/s]\n",
      "  0%|          | 0/301 [00:00<?, ?it/s]"
     ]
    },
    {
     "name": "stdout",
     "output_type": "stream",
     "text": [
      "\n",
      "Test set: Average loss: 0.0087, Accuracy: 35297/77000 (45.84%)\n",
      "\n",
      "EPOCH: 31\n"
     ]
    },
    {
     "name": "stderr",
     "output_type": "stream",
     "text": [
      "Loss=2.3163886070251465 Batch_id=300 Accuracy=45.00 Learning Rate=0.045: 100%|██████████| 301/301 [00:40<00:00,  7.40it/s]\n",
      "  0%|          | 0/301 [00:00<?, ?it/s]"
     ]
    },
    {
     "name": "stdout",
     "output_type": "stream",
     "text": [
      "\n",
      "Test set: Average loss: 0.0085, Accuracy: 35965/77000 (46.71%)\n",
      "\n",
      "EPOCH: 32\n"
     ]
    },
    {
     "name": "stderr",
     "output_type": "stream",
     "text": [
      "Loss=2.2833609580993652 Batch_id=300 Accuracy=46.00 Learning Rate=0.045: 100%|██████████| 301/301 [00:40<00:00,  7.41it/s]\n",
      "  0%|          | 0/301 [00:00<?, ?it/s]"
     ]
    },
    {
     "name": "stdout",
     "output_type": "stream",
     "text": [
      "\n",
      "Test set: Average loss: 0.0084, Accuracy: 36263/77000 (47.09%)\n",
      "\n",
      "EPOCH: 33\n"
     ]
    },
    {
     "name": "stderr",
     "output_type": "stream",
     "text": [
      "Loss=2.2696752548217773 Batch_id=300 Accuracy=46.00 Learning Rate=0.045: 100%|██████████| 301/301 [00:40<00:00,  7.39it/s]\n",
      "  0%|          | 0/301 [00:00<?, ?it/s]"
     ]
    },
    {
     "name": "stdout",
     "output_type": "stream",
     "text": [
      "\n",
      "Test set: Average loss: 0.0083, Accuracy: 36581/77000 (47.51%)\n",
      "\n",
      "EPOCH: 34\n"
     ]
    },
    {
     "name": "stderr",
     "output_type": "stream",
     "text": [
      "Loss=2.041971445083618 Batch_id=300 Accuracy=47.00 Learning Rate=0.045: 100%|██████████| 301/301 [00:40<00:00,  7.39it/s]\n",
      "  0%|          | 0/301 [00:00<?, ?it/s]"
     ]
    },
    {
     "name": "stdout",
     "output_type": "stream",
     "text": [
      "\n",
      "Test set: Average loss: 0.0081, Accuracy: 37228/77000 (48.35%)\n",
      "\n",
      "EPOCH: 35\n"
     ]
    },
    {
     "name": "stderr",
     "output_type": "stream",
     "text": [
      "Loss=2.254700183868408 Batch_id=300 Accuracy=47.00 Learning Rate=0.045: 100%|██████████| 301/301 [00:40<00:00,  7.40it/s]\n",
      "  0%|          | 0/301 [00:00<?, ?it/s]"
     ]
    },
    {
     "name": "stdout",
     "output_type": "stream",
     "text": [
      "\n",
      "Test set: Average loss: 0.0081, Accuracy: 37380/77000 (48.55%)\n",
      "\n",
      "EPOCH: 36\n"
     ]
    },
    {
     "name": "stderr",
     "output_type": "stream",
     "text": [
      "Loss=1.9135313034057617 Batch_id=300 Accuracy=48.00 Learning Rate=0.045: 100%|██████████| 301/301 [00:40<00:00,  7.40it/s]\n",
      "  0%|          | 0/301 [00:00<?, ?it/s]"
     ]
    },
    {
     "name": "stdout",
     "output_type": "stream",
     "text": [
      "\n",
      "Test set: Average loss: 0.0079, Accuracy: 38419/77000 (49.89%)\n",
      "\n",
      "EPOCH: 37\n"
     ]
    },
    {
     "name": "stderr",
     "output_type": "stream",
     "text": [
      "Loss=2.020721673965454 Batch_id=300 Accuracy=49.00 Learning Rate=0.045: 100%|██████████| 301/301 [00:40<00:00,  7.41it/s]\n",
      "  0%|          | 0/301 [00:00<?, ?it/s]"
     ]
    },
    {
     "name": "stdout",
     "output_type": "stream",
     "text": [
      "\n",
      "Test set: Average loss: 0.0079, Accuracy: 38550/77000 (50.06%)\n",
      "\n",
      "EPOCH: 38\n"
     ]
    },
    {
     "name": "stderr",
     "output_type": "stream",
     "text": [
      "Loss=2.2021727561950684 Batch_id=300 Accuracy=49.00 Learning Rate=0.045: 100%|██████████| 301/301 [00:40<00:00,  7.39it/s]\n",
      "  0%|          | 0/301 [00:00<?, ?it/s]"
     ]
    },
    {
     "name": "stdout",
     "output_type": "stream",
     "text": [
      "\n",
      "Test set: Average loss: 0.0077, Accuracy: 39307/77000 (51.05%)\n",
      "\n",
      "EPOCH: 39\n"
     ]
    },
    {
     "name": "stderr",
     "output_type": "stream",
     "text": [
      "Loss=2.2098937034606934 Batch_id=300 Accuracy=50.00 Learning Rate=0.045: 100%|██████████| 301/301 [00:40<00:00,  7.40it/s]\n",
      "  0%|          | 0/301 [00:00<?, ?it/s]"
     ]
    },
    {
     "name": "stdout",
     "output_type": "stream",
     "text": [
      "\n",
      "Test set: Average loss: 0.0075, Accuracy: 39913/77000 (51.84%)\n",
      "\n",
      "EPOCH: 40\n"
     ]
    },
    {
     "name": "stderr",
     "output_type": "stream",
     "text": [
      "Loss=2.0173420906066895 Batch_id=300 Accuracy=51.00 Learning Rate=0.045: 100%|██████████| 301/301 [00:40<00:00,  7.39it/s]\n",
      "  0%|          | 0/301 [00:00<?, ?it/s]"
     ]
    },
    {
     "name": "stdout",
     "output_type": "stream",
     "text": [
      "\n",
      "Test set: Average loss: 0.0074, Accuracy: 40280/77000 (52.31%)\n",
      "\n",
      "EPOCH: 41\n"
     ]
    },
    {
     "name": "stderr",
     "output_type": "stream",
     "text": [
      "Loss=1.9623719453811646 Batch_id=300 Accuracy=51.00 Learning Rate=0.045: 100%|██████████| 301/301 [00:40<00:00,  7.39it/s]\n",
      "  0%|          | 0/301 [00:00<?, ?it/s]"
     ]
    },
    {
     "name": "stdout",
     "output_type": "stream",
     "text": [
      "\n",
      "Test set: Average loss: 0.0073, Accuracy: 40881/77000 (53.09%)\n",
      "\n",
      "EPOCH: 42\n"
     ]
    },
    {
     "name": "stderr",
     "output_type": "stream",
     "text": [
      "Loss=2.0136115550994873 Batch_id=300 Accuracy=51.00 Learning Rate=0.045: 100%|██████████| 301/301 [00:40<00:00,  7.38it/s]\n",
      "  0%|          | 0/301 [00:00<?, ?it/s]"
     ]
    },
    {
     "name": "stdout",
     "output_type": "stream",
     "text": [
      "\n",
      "Test set: Average loss: 0.0073, Accuracy: 40986/77000 (53.23%)\n",
      "\n",
      "EPOCH: 43\n"
     ]
    },
    {
     "name": "stderr",
     "output_type": "stream",
     "text": [
      "Loss=2.035189628601074 Batch_id=300 Accuracy=52.00 Learning Rate=0.045: 100%|██████████| 301/301 [00:40<00:00,  7.40it/s]\n",
      "  0%|          | 0/301 [00:00<?, ?it/s]"
     ]
    },
    {
     "name": "stdout",
     "output_type": "stream",
     "text": [
      "\n",
      "Test set: Average loss: 0.0071, Accuracy: 41656/77000 (54.10%)\n",
      "\n",
      "EPOCH: 44\n"
     ]
    },
    {
     "name": "stderr",
     "output_type": "stream",
     "text": [
      "Loss=2.067873001098633 Batch_id=300 Accuracy=53.00 Learning Rate=0.045: 100%|██████████| 301/301 [00:40<00:00,  7.39it/s]\n",
      "  0%|          | 0/301 [00:00<?, ?it/s]"
     ]
    },
    {
     "name": "stdout",
     "output_type": "stream",
     "text": [
      "\n",
      "Test set: Average loss: 0.0073, Accuracy: 40843/77000 (53.04%)\n",
      "\n",
      "EPOCH: 45\n"
     ]
    },
    {
     "name": "stderr",
     "output_type": "stream",
     "text": [
      "Loss=1.5666886568069458 Batch_id=300 Accuracy=53.00 Learning Rate=0.045: 100%|██████████| 301/301 [00:40<00:00,  7.38it/s]\n",
      "  0%|          | 0/301 [00:00<?, ?it/s]"
     ]
    },
    {
     "name": "stdout",
     "output_type": "stream",
     "text": [
      "\n",
      "Test set: Average loss: 0.0069, Accuracy: 42570/77000 (55.29%)\n",
      "\n",
      "EPOCH: 46\n"
     ]
    },
    {
     "name": "stderr",
     "output_type": "stream",
     "text": [
      "Loss=2.0024662017822266 Batch_id=300 Accuracy=54.00 Learning Rate=0.045: 100%|██████████| 301/301 [00:40<00:00,  7.38it/s]\n",
      "  0%|          | 0/301 [00:00<?, ?it/s]"
     ]
    },
    {
     "name": "stdout",
     "output_type": "stream",
     "text": [
      "\n",
      "Test set: Average loss: 0.0068, Accuracy: 42901/77000 (55.72%)\n",
      "\n",
      "EPOCH: 47\n"
     ]
    },
    {
     "name": "stderr",
     "output_type": "stream",
     "text": [
      "Loss=1.8841400146484375 Batch_id=300 Accuracy=54.00 Learning Rate=0.045: 100%|██████████| 301/301 [00:40<00:00,  7.39it/s]\n",
      "  0%|          | 0/301 [00:00<?, ?it/s]"
     ]
    },
    {
     "name": "stdout",
     "output_type": "stream",
     "text": [
      "\n",
      "Test set: Average loss: 0.0066, Accuracy: 43754/77000 (56.82%)\n",
      "\n",
      "EPOCH: 48\n"
     ]
    },
    {
     "name": "stderr",
     "output_type": "stream",
     "text": [
      "Loss=2.0026772022247314 Batch_id=300 Accuracy=55.00 Learning Rate=0.045: 100%|██████████| 301/301 [00:40<00:00,  7.41it/s]\n",
      "  0%|          | 0/301 [00:00<?, ?it/s]"
     ]
    },
    {
     "name": "stdout",
     "output_type": "stream",
     "text": [
      "\n",
      "Test set: Average loss: 0.0067, Accuracy: 43475/77000 (56.46%)\n",
      "\n",
      "EPOCH: 49\n"
     ]
    },
    {
     "name": "stderr",
     "output_type": "stream",
     "text": [
      "Loss=1.9996551275253296 Batch_id=300 Accuracy=55.00 Learning Rate=0.045: 100%|██████████| 301/301 [00:40<00:00,  7.38it/s]\n",
      "  0%|          | 0/301 [00:00<?, ?it/s]"
     ]
    },
    {
     "name": "stdout",
     "output_type": "stream",
     "text": [
      "\n",
      "Test set: Average loss: 0.0064, Accuracy: 44727/77000 (58.09%)\n",
      "\n",
      "EPOCH: 50\n"
     ]
    },
    {
     "name": "stderr",
     "output_type": "stream",
     "text": [
      "Loss=1.96555757522583 Batch_id=300 Accuracy=56.00 Learning Rate=0.045: 100%|██████████| 301/301 [00:40<00:00,  7.39it/s]\n"
     ]
    },
    {
     "name": "stdout",
     "output_type": "stream",
     "text": [
      "\n",
      "Test set: Average loss: 0.0065, Accuracy: 44232/77000 (57.44%)\n",
      "\n"
     ]
    }
   ],
   "source": [
    "train_acc, train_losses, test_acc, test_losses = engine.fit(model, train_loader, test_loader, loss_function, device, optimizer, 50)"
   ]
  },
  {
   "cell_type": "code",
   "execution_count": 18,
   "metadata": {
    "colab": {
     "base_uri": "https://localhost:8080/",
     "height": 652
    },
    "id": "gViZymMqLLf8",
    "outputId": "ae60a151-3391-4bd1-8dd2-d05b3af0426d"
   },
   "outputs": [
    {
     "name": "stdout",
     "output_type": "stream",
     "text": [
      "[[<matplotlib.axes._subplots.AxesSubplot object at 0x7f9156bec748>\n",
      "  <matplotlib.axes._subplots.AxesSubplot object at 0x7f9159294940>]\n",
      " [<matplotlib.axes._subplots.AxesSubplot object at 0x7f915932cb70>\n",
      "  <matplotlib.axes._subplots.AxesSubplot object at 0x7f91591d5da0>]]\n"
     ]
    },
    {
     "data": {
      "text/plain": [
       "Text(0.5, 1.0, 'Test Losses')"
      ]
     },
     "execution_count": 18,
     "metadata": {
      "tags": []
     },
     "output_type": "execute_result"
    },
    {
     "data": {
      "image/png": "[encoded data removed]",
      "text/plain": [
       "<Figure size 2160x720 with 4 Axes>"
      ]
     },
     "metadata": {
      "needs_background": "light",
      "tags": []
     },
     "output_type": "display_data"
    }
   ],
   "source": [
    "import matplotlib.pyplot as plt\n",
    "fig, axs = plt.subplots(2,2,figsize=(30,10))\n",
    "print(axs)\n",
    "axs[0][0].plot(train_acc, label = \"train_acc\")\n",
    "axs[0][1].plot(train_losses, label = \"train_losses\")\n",
    "axs[1][0].plot(test_acc, label = \"test_acc\")\n",
    "axs[1][1].plot(test_losses, label = \"test_losses\")\n",
    "# axs[0].legend()\n",
    "axs[0][0].set_title(\"Training Accuracy\")\n",
    "axs[0][1].set_title(\"Training Losses\")\n",
    "axs[1][0].set_title(\"Test Accuracy\")\n",
    "axs[1][1].set_title(\"Test Losses\")"
   ]
  }
 ],
 "metadata": {
  "accelerator": "GPU",
  "colab": {
   "collapsed_sections": [],
   "name": "S12(1).ipynb",
   "provenance": []
  },
  "kernelspec": {
   "display_name": "Python 3",
   "language": "python",
   "name": "python3"
  },
  "language_info": {
   "codemirror_mode": {
    "name": "ipython",
    "version": 3
   },
   "file_extension": ".py",
   "mimetype": "text/x-python",
   "name": "python",
   "nbconvert_exporter": "python",
   "pygments_lexer": "ipython3",
   "version": "3.8.5"
  },
  "widgets": {
   "application/vnd.jupyter.widget-state+json": {
    "17fb8f8a32314315a17df263d8c475b8": {
     "model_module": "@jupyter-widgets/controls",
     "model_name": "DescriptionStyleModel",
     "state": {
      "_model_module": "@jupyter-widgets/controls",
      "_model_module_version": "1.5.0",
      "_model_name": "DescriptionStyleModel",
      "_view_count": null,
      "_view_module": "@jupyter-widgets/base",
      "_view_module_version": "1.2.0",
      "_view_name": "StyleView",
      "description_width": ""
     }
    },
    "1d595ab5814d4b5d815b8240b81eee16": {
     "model_module": "@jupyter-widgets/base",
     "model_name": "LayoutModel",
     "state": {
      "_model_module": "@jupyter-widgets/base",
      "_model_module_version": "1.2.0",
      "_model_name": "LayoutModel",
      "_view_count": null,
      "_view_module": "@jupyter-widgets/base",
      "_view_module_version": "1.2.0",
      "_view_name": "LayoutView",
      "align_content": null,
      "align_items": null,
      "align_self": null,
      "border": null,
      "bottom": null,
      "display": null,
      "flex": null,
      "flex_flow": null,
      "grid_area": null,
      "grid_auto_columns": null,
      "grid_auto_flow": null,
      "grid_auto_rows": null,
      "grid_column": null,
      "grid_gap": null,
      "grid_row": null,
      "grid_template_areas": null,
      "grid_template_columns": null,
      "grid_template_rows": null,
      "height": null,
      "justify_content": null,
      "justify_items": null,
      "left": null,
      "margin": null,
      "max_height": null,
      "max_width": null,
      "min_height": null,
      "min_width": null,
      "object_fit": null,
      "object_position": null,
      "order": null,
      "overflow": null,
      "overflow_x": null,
      "overflow_y": null,
      "padding": null,
      "right": null,
      "top": null,
      "visibility": null,
      "width": null
     }
    },
    "2091a96a122448a3b4f3440fae581a4a": {
     "model_module": "@jupyter-widgets/controls",
     "model_name": "FloatProgressModel",
     "state": {
      "_dom_classes": [],
      "_model_module": "@jupyter-widgets/controls",
      "_model_module_version": "1.5.0",
      "_model_name": "FloatProgressModel",
      "_view_count": null,
      "_view_module": "@jupyter-widgets/controls",
      "_view_module_version": "1.5.0",
      "_view_name": "ProgressView",
      "bar_style": "success",
      "description": "Loading Train Folder: 100%",
      "description_tooltip": null,
      "layout": "IPY_MODEL_85b6e7b29511490b8fa68a08dd079a96",
      "max": 200,
      "min": 0,
      "orientation": "horizontal",
      "style": "IPY_MODEL_a53c154593a049c4bc90c854b7810797",
      "value": 200
     }
    },
    "2305c89e50ac4ff597a5e73687e2bfa3": {
     "model_module": "@jupyter-widgets/controls",
     "model_name": "HBoxModel",
     "state": {
      "_dom_classes": [],
      "_model_module": "@jupyter-widgets/controls",
      "_model_module_version": "1.5.0",
      "_model_name": "HBoxModel",
      "_view_count": null,
      "_view_module": "@jupyter-widgets/controls",
      "_view_module_version": "1.5.0",
      "_view_name": "HBoxView",
      "box_style": "",
      "children": [
       "IPY_MODEL_612cd198a6fc4f5ca7b110e7b0d62a34",
       "IPY_MODEL_da237f4bfbb24774a5927ccb96871d8a"
      ],
      "layout": "IPY_MODEL_1d595ab5814d4b5d815b8240b81eee16"
     }
    },
    "24ad5e8eb71b479da2410019f2f94857": {
     "model_module": "@jupyter-widgets/base",
     "model_name": "LayoutModel",
     "state": {
      "_model_module": "@jupyter-widgets/base",
      "_model_module_version": "1.2.0",
      "_model_name": "LayoutModel",
      "_view_count": null,
      "_view_module": "@jupyter-widgets/base",
      "_view_module_version": "1.2.0",
      "_view_name": "LayoutView",
      "align_content": null,
      "align_items": null,
      "align_self": null,
      "border": null,
      "bottom": null,
      "display": null,
      "flex": null,
      "flex_flow": null,
      "grid_area": null,
      "grid_auto_columns": null,
      "grid_auto_flow": null,
      "grid_auto_rows": null,
      "grid_column": null,
      "grid_gap": null,
      "grid_row": null,
      "grid_template_areas": null,
      "grid_template_columns": null,
      "grid_template_rows": null,
      "height": null,
      "justify_content": null,
      "justify_items": null,
      "left": null,
      "margin": null,
      "max_height": null,
      "max_width": null,
      "min_height": null,
      "min_width": null,
      "object_fit": null,
      "object_position": null,
      "order": null,
      "overflow": null,
      "overflow_x": null,
      "overflow_y": null,
      "padding": null,
      "right": null,
      "top": null,
      "visibility": null,
      "width": null
     }
    },
    "25d322fddad64ea1bfd1c8eace76daaf": {
     "model_module": "@jupyter-widgets/controls",
     "model_name": "HBoxModel",
     "state": {
      "_dom_classes": [],
      "_model_module": "@jupyter-widgets/controls",
      "_model_module_version": "1.5.0",
      "_model_name": "HBoxModel",
      "_view_count": null,
      "_view_module": "@jupyter-widgets/controls",
      "_view_module_version": "1.5.0",
      "_view_name": "HBoxView",
      "box_style": "",
      "children": [
       "IPY_MODEL_2091a96a122448a3b4f3440fae581a4a",
       "IPY_MODEL_b7a5b820db4a4e338f4879272065ae2a"
      ],
      "layout": "IPY_MODEL_af5f2e99a295455f981870e675df9248"
     }
    },
    "298dc52bdae64abf9f6ac97436f3d72a": {
     "model_module": "@jupyter-widgets/base",
     "model_name": "LayoutModel",
     "state": {
      "_model_module": "@jupyter-widgets/base",
      "_model_module_version": "1.2.0",
      "_model_name": "LayoutModel",
      "_view_count": null,
      "_view_module": "@jupyter-widgets/base",
      "_view_module_version": "1.2.0",
      "_view_name": "LayoutView",
      "align_content": null,
      "align_items": null,
      "align_self": null,
      "border": null,
      "bottom": null,
      "display": null,
      "flex": null,
      "flex_flow": null,
      "grid_area": null,
      "grid_auto_columns": null,
      "grid_auto_flow": null,
      "grid_auto_rows": null,
      "grid_column": null,
      "grid_gap": null,
      "grid_row": null,
      "grid_template_areas": null,
      "grid_template_columns": null,
      "grid_template_rows": null,
      "height": null,
      "justify_content": null,
      "justify_items": null,
      "left": null,
      "margin": null,
      "max_height": null,
      "max_width": null,
      "min_height": null,
      "min_width": null,
      "object_fit": null,
      "object_position": null,
      "order": null,
      "overflow": null,
      "overflow_x": null,
      "overflow_y": null,
      "padding": null,
      "right": null,
      "top": null,
      "visibility": null,
      "width": null
     }
    },
    "3ad2aa3f299b4014a6624351fd95884f": {
     "model_module": "@jupyter-widgets/base",
     "model_name": "LayoutModel",
     "state": {
      "_model_module": "@jupyter-widgets/base",
      "_model_module_version": "1.2.0",
      "_model_name": "LayoutModel",
      "_view_count": null,
      "_view_module": "@jupyter-widgets/base",
      "_view_module_version": "1.2.0",
      "_view_name": "LayoutView",
      "align_content": null,
      "align_items": null,
      "align_self": null,
      "border": null,
      "bottom": null,
      "display": null,
      "flex": null,
      "flex_flow": null,
      "grid_area": null,
      "grid_auto_columns": null,
      "grid_auto_flow": null,
      "grid_auto_rows": null,
      "grid_column": null,
      "grid_gap": null,
      "grid_row": null,
      "grid_template_areas": null,
      "grid_template_columns": null,
      "grid_template_rows": null,
      "height": null,
      "justify_content": null,
      "justify_items": null,
      "left": null,
      "margin": null,
      "max_height": null,
      "max_width": null,
      "min_height": null,
      "min_width": null,
      "object_fit": null,
      "object_position": null,
      "order": null,
      "overflow": null,
      "overflow_x": null,
      "overflow_y": null,
      "padding": null,
      "right": null,
      "top": null,
      "visibility": null,
      "width": null
     }
    },
    "56d15ce40d804c708f929cad3e9fc154": {
     "model_module": "@jupyter-widgets/controls",
     "model_name": "HTMLModel",
     "state": {
      "_dom_classes": [],
      "_model_module": "@jupyter-widgets/controls",
      "_model_module_version": "1.5.0",
      "_model_name": "HTMLModel",
      "_view_count": null,
      "_view_module": "@jupyter-widgets/controls",
      "_view_module_version": "1.5.0",
      "_view_name": "HTMLView",
      "description": "",
      "description_tooltip": null,
      "layout": "IPY_MODEL_5c390beb80f54453a4abf0f4f08a9472",
      "placeholder": "​",
      "style": "IPY_MODEL_17fb8f8a32314315a17df263d8c475b8",
      "value": " 10000/10000 [03:53&lt;00:00, 42.82it/s]"
     }
    },
    "5c390beb80f54453a4abf0f4f08a9472": {
     "model_module": "@jupyter-widgets/base",
     "model_name": "LayoutModel",
     "state": {
      "_model_module": "@jupyter-widgets/base",
      "_model_module_version": "1.2.0",
      "_model_name": "LayoutModel",
      "_view_count": null,
      "_view_module": "@jupyter-widgets/base",
      "_view_module_version": "1.2.0",
      "_view_name": "LayoutView",
      "align_content": null,
      "align_items": null,
      "align_self": null,
      "border": null,
      "bottom": null,
      "display": null,
      "flex": null,
      "flex_flow": null,
      "grid_area": null,
      "grid_auto_columns": null,
      "grid_auto_flow": null,
      "grid_auto_rows": null,
      "grid_column": null,
      "grid_gap": null,
      "grid_row": null,
      "grid_template_areas": null,
      "grid_template_columns": null,
      "grid_template_rows": null,
      "height": null,
      "justify_content": null,
      "justify_items": null,
      "left": null,
      "margin": null,
      "max_height": null,
      "max_width": null,
      "min_height": null,
      "min_width": null,
      "object_fit": null,
      "object_position": null,
      "order": null,
      "overflow": null,
      "overflow_x": null,
      "overflow_y": null,
      "padding": null,
      "right": null,
      "top": null,
      "visibility": null,
      "width": null
     }
    },
    "612cd198a6fc4f5ca7b110e7b0d62a34": {
     "model_module": "@jupyter-widgets/controls",
     "model_name": "FloatProgressModel",
     "state": {
      "_dom_classes": [],
      "_model_module": "@jupyter-widgets/controls",
      "_model_module_version": "1.5.0",
      "_model_name": "FloatProgressModel",
      "_view_count": null,
      "_view_module": "@jupyter-widgets/controls",
      "_view_module_version": "1.5.0",
      "_view_name": "ProgressView",
      "bar_style": "success",
      "description": "100%",
      "description_tooltip": null,
      "layout": "IPY_MODEL_3ad2aa3f299b4014a6624351fd95884f",
      "max": 120609,
      "min": 0,
      "orientation": "horizontal",
      "style": "IPY_MODEL_6ebfd906284b4f3897165157827db7ea",
      "value": 120609
     }
    },
    "6ebfd906284b4f3897165157827db7ea": {
     "model_module": "@jupyter-widgets/controls",
     "model_name": "ProgressStyleModel",
     "state": {
      "_model_module": "@jupyter-widgets/controls",
      "_model_module_version": "1.5.0",
      "_model_name": "ProgressStyleModel",
      "_view_count": null,
      "_view_module": "@jupyter-widgets/base",
      "_view_module_version": "1.2.0",
      "_view_name": "StyleView",
      "bar_color": null,
      "description_width": "initial"
     }
    },
    "7745c6d64ccb4eacbe3841c0bacfab68": {
     "model_module": "@jupyter-widgets/base",
     "model_name": "LayoutModel",
     "state": {
      "_model_module": "@jupyter-widgets/base",
      "_model_module_version": "1.2.0",
      "_model_name": "LayoutModel",
      "_view_count": null,
      "_view_module": "@jupyter-widgets/base",
      "_view_module_version": "1.2.0",
      "_view_name": "LayoutView",
      "align_content": null,
      "align_items": null,
      "align_self": null,
      "border": null,
      "bottom": null,
      "display": null,
      "flex": null,
      "flex_flow": null,
      "grid_area": null,
      "grid_auto_columns": null,
      "grid_auto_flow": null,
      "grid_auto_rows": null,
      "grid_column": null,
      "grid_gap": null,
      "grid_row": null,
      "grid_template_areas": null,
      "grid_template_columns": null,
      "grid_template_rows": null,
      "height": null,
      "justify_content": null,
      "justify_items": null,
      "left": null,
      "margin": null,
      "max_height": null,
      "max_width": null,
      "min_height": null,
      "min_width": null,
      "object_fit": null,
      "object_position": null,
      "order": null,
      "overflow": null,
      "overflow_x": null,
      "overflow_y": null,
      "padding": null,
      "right": null,
      "top": null,
      "visibility": null,
      "width": null
     }
    },
    "85b6e7b29511490b8fa68a08dd079a96": {
     "model_module": "@jupyter-widgets/base",
     "model_name": "LayoutModel",
     "state": {
      "_model_module": "@jupyter-widgets/base",
      "_model_module_version": "1.2.0",
      "_model_name": "LayoutModel",
      "_view_count": null,
      "_view_module": "@jupyter-widgets/base",
      "_view_module_version": "1.2.0",
      "_view_name": "LayoutView",
      "align_content": null,
      "align_items": null,
      "align_self": null,
      "border": null,
      "bottom": null,
      "display": null,
      "flex": null,
      "flex_flow": null,
      "grid_area": null,
      "grid_auto_columns": null,
      "grid_auto_flow": null,
      "grid_auto_rows": null,
      "grid_column": null,
      "grid_gap": null,
      "grid_row": null,
      "grid_template_areas": null,
      "grid_template_columns": null,
      "grid_template_rows": null,
      "height": null,
      "justify_content": null,
      "justify_items": null,
      "left": null,
      "margin": null,
      "max_height": null,
      "max_width": null,
      "min_height": null,
      "min_width": null,
      "object_fit": null,
      "object_position": null,
      "order": null,
      "overflow": null,
      "overflow_x": null,
      "overflow_y": null,
      "padding": null,
      "right": null,
      "top": null,
      "visibility": null,
      "width": null
     }
    },
    "a116039f158548168963993e48cdc8c2": {
     "model_module": "@jupyter-widgets/controls",
     "model_name": "DescriptionStyleModel",
     "state": {
      "_model_module": "@jupyter-widgets/controls",
      "_model_module_version": "1.5.0",
      "_model_name": "DescriptionStyleModel",
      "_view_count": null,
      "_view_module": "@jupyter-widgets/base",
      "_view_module_version": "1.2.0",
      "_view_name": "StyleView",
      "description_width": ""
     }
    },
    "a53c154593a049c4bc90c854b7810797": {
     "model_module": "@jupyter-widgets/controls",
     "model_name": "ProgressStyleModel",
     "state": {
      "_model_module": "@jupyter-widgets/controls",
      "_model_module_version": "1.5.0",
      "_model_name": "ProgressStyleModel",
      "_view_count": null,
      "_view_module": "@jupyter-widgets/base",
      "_view_module_version": "1.2.0",
      "_view_name": "StyleView",
      "bar_color": null,
      "description_width": "initial"
     }
    },
    "abad4cd6e6194c308d38760aec8d7c97": {
     "model_module": "@jupyter-widgets/controls",
     "model_name": "ProgressStyleModel",
     "state": {
      "_model_module": "@jupyter-widgets/controls",
      "_model_module_version": "1.5.0",
      "_model_name": "ProgressStyleModel",
      "_view_count": null,
      "_view_module": "@jupyter-widgets/base",
      "_view_module_version": "1.2.0",
      "_view_name": "StyleView",
      "bar_color": null,
      "description_width": "initial"
     }
    },
    "acaa0418a4934ec3a59865e89233feb0": {
     "model_module": "@jupyter-widgets/base",
     "model_name": "LayoutModel",
     "state": {
      "_model_module": "@jupyter-widgets/base",
      "_model_module_version": "1.2.0",
      "_model_name": "LayoutModel",
      "_view_count": null,
      "_view_module": "@jupyter-widgets/base",
      "_view_module_version": "1.2.0",
      "_view_name": "LayoutView",
      "align_content": null,
      "align_items": null,
      "align_self": null,
      "border": null,
      "bottom": null,
      "display": null,
      "flex": null,
      "flex_flow": null,
      "grid_area": null,
      "grid_auto_columns": null,
      "grid_auto_flow": null,
      "grid_auto_rows": null,
      "grid_column": null,
      "grid_gap": null,
      "grid_row": null,
      "grid_template_areas": null,
      "grid_template_columns": null,
      "grid_template_rows": null,
      "height": null,
      "justify_content": null,
      "justify_items": null,
      "left": null,
      "margin": null,
      "max_height": null,
      "max_width": null,
      "min_height": null,
      "min_width": null,
      "object_fit": null,
      "object_position": null,
      "order": null,
      "overflow": null,
      "overflow_x": null,
      "overflow_y": null,
      "padding": null,
      "right": null,
      "top": null,
      "visibility": null,
      "width": null
     }
    },
    "af5f2e99a295455f981870e675df9248": {
     "model_module": "@jupyter-widgets/base",
     "model_name": "LayoutModel",
     "state": {
      "_model_module": "@jupyter-widgets/base",
      "_model_module_version": "1.2.0",
      "_model_name": "LayoutModel",
      "_view_count": null,
      "_view_module": "@jupyter-widgets/base",
      "_view_module_version": "1.2.0",
      "_view_name": "LayoutView",
      "align_content": null,
      "align_items": null,
      "align_self": null,
      "border": null,
      "bottom": null,
      "display": null,
      "flex": null,
      "flex_flow": null,
      "grid_area": null,
      "grid_auto_columns": null,
      "grid_auto_flow": null,
      "grid_auto_rows": null,
      "grid_column": null,
      "grid_gap": null,
      "grid_row": null,
      "grid_template_areas": null,
      "grid_template_columns": null,
      "grid_template_rows": null,
      "height": null,
      "justify_content": null,
      "justify_items": null,
      "left": null,
      "margin": null,
      "max_height": null,
      "max_width": null,
      "min_height": null,
      "min_width": null,
      "object_fit": null,
      "object_position": null,
      "order": null,
      "overflow": null,
      "overflow_x": null,
      "overflow_y": null,
      "padding": null,
      "right": null,
      "top": null,
      "visibility": null,
      "width": null
     }
    },
    "b7a5b820db4a4e338f4879272065ae2a": {
     "model_module": "@jupyter-widgets/controls",
     "model_name": "HTMLModel",
     "state": {
      "_dom_classes": [],
      "_model_module": "@jupyter-widgets/controls",
      "_model_module_version": "1.5.0",
      "_model_name": "HTMLModel",
      "_view_count": null,
      "_view_module": "@jupyter-widgets/controls",
      "_view_module_version": "1.5.0",
      "_view_name": "HTMLView",
      "description": "",
      "description_tooltip": null,
      "layout": "IPY_MODEL_acaa0418a4934ec3a59865e89233feb0",
      "placeholder": "​",
      "style": "IPY_MODEL_ccaeac524d804773987e478428ea7a4b",
      "value": " 200/200 [27:34&lt;00:00,  8.27s/it]"
     }
    },
    "c7098701654a4f7689b906197103453d": {
     "model_module": "@jupyter-widgets/controls",
     "model_name": "FloatProgressModel",
     "state": {
      "_dom_classes": [],
      "_model_module": "@jupyter-widgets/controls",
      "_model_module_version": "1.5.0",
      "_model_name": "FloatProgressModel",
      "_view_count": null,
      "_view_module": "@jupyter-widgets/controls",
      "_view_module_version": "1.5.0",
      "_view_name": "ProgressView",
      "bar_style": "success",
      "description": "Loading Test Folder: 100%",
      "description_tooltip": null,
      "layout": "IPY_MODEL_298dc52bdae64abf9f6ac97436f3d72a",
      "max": 10000,
      "min": 0,
      "orientation": "horizontal",
      "style": "IPY_MODEL_abad4cd6e6194c308d38760aec8d7c97",
      "value": 10000
     }
    },
    "ccaeac524d804773987e478428ea7a4b": {
     "model_module": "@jupyter-widgets/controls",
     "model_name": "DescriptionStyleModel",
     "state": {
      "_model_module": "@jupyter-widgets/controls",
      "_model_module_version": "1.5.0",
      "_model_name": "DescriptionStyleModel",
      "_view_count": null,
      "_view_module": "@jupyter-widgets/base",
      "_view_module_version": "1.2.0",
      "_view_name": "StyleView",
      "description_width": ""
     }
    },
    "da237f4bfbb24774a5927ccb96871d8a": {
     "model_module": "@jupyter-widgets/controls",
     "model_name": "HTMLModel",
     "state": {
      "_dom_classes": [],
      "_model_module": "@jupyter-widgets/controls",
      "_model_module_version": "1.5.0",
      "_model_name": "HTMLModel",
      "_view_count": null,
      "_view_module": "@jupyter-widgets/controls",
      "_view_module_version": "1.5.0",
      "_view_name": "HTMLView",
      "description": "",
      "description_tooltip": null,
      "layout": "IPY_MODEL_24ad5e8eb71b479da2410019f2f94857",
      "placeholder": "​",
      "style": "IPY_MODEL_a116039f158548168963993e48cdc8c2",
      "value": " 120609/120609 [00:14&lt;00:00, 8124.07it/s]"
     }
    },
    "ede601959178494883482dfe45e24ab5": {
     "model_module": "@jupyter-widgets/controls",
     "model_name": "HBoxModel",
     "state": {
      "_dom_classes": [],
      "_model_module": "@jupyter-widgets/controls",
      "_model_module_version": "1.5.0",
      "_model_name": "HBoxModel",
      "_view_count": null,
      "_view_module": "@jupyter-widgets/controls",
      "_view_module_version": "1.5.0",
      "_view_name": "HBoxView",
      "box_style": "",
      "children": [
       "IPY_MODEL_c7098701654a4f7689b906197103453d",
       "IPY_MODEL_56d15ce40d804c708f929cad3e9fc154"
      ],
      "layout": "IPY_MODEL_7745c6d64ccb4eacbe3841c0bacfab68"
     }
    }
   }
  }
 },
 "nbformat": 4,
 "nbformat_minor": 1
}
