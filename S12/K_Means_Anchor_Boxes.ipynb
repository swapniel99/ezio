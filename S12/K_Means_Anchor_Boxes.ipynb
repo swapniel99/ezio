{
  "nbformat": 4,
  "nbformat_minor": 0,
  "metadata": {
    "colab": {
      "name": "K-Means Anchor Boxes.ipynb",
      "provenance": [],
      "collapsed_sections": [],
      "authorship_tag": "ABX9TyM/UjMO3aANYo6r2JGXe8g9"
    },
    "kernelspec": {
      "name": "python3",
      "display_name": "Python 3"
    }
  },
  "cells": [
    {
      "cell_type": "markdown",
      "metadata": {
        "id": "UytzgcTUXPCp"
      },
      "source": [
        "**Json Fields** :\n",
        "   1. ***info*** - file metadata: name, url, date created,description,version,contributer.\n",
        "   2. ***images***:\n",
        "        * id - unique id\n",
        "        * width - image width\n",
        "        * height - image height\n",
        "        * file_name - name of the file\n",
        "        * license   - licence if any\n",
        "        * date_captured - date when captured\n",
        "   3. ***annotation*** - contains metrics of the bounding boxes\n",
        "        * id  - unique id\n",
        "        * image_id - reference to the image\n",
        "        * segmentation- Co-Ordinates of the bbox. For rectangle there will be 8 coordinates (4 x,y pairs) - top-left, top-right, bottom-left, bottom-right.\n",
        "        * area - area of bounding box\n",
        "        * bbox - 4 points. top-left x-coordinate,top-left y-coordinate, width of bbox, height of bbox \n",
        "        * iscrowd - It defines whether there is a single image(iscrowd = 0) or group of objects(iscrowd = 1) \n",
        "   4.  licence\n",
        "   5.  Categories - Each category has 3 sub-fields: id, name, supercategory. "
      ]
    },
    {
      "cell_type": "code",
      "metadata": {
        "id": "OwGX_QPhc0-8",
        "outputId": "b5540aad-c00c-48dc-8f62-ce46f42d2e82",
        "colab": {
          "base_uri": "https://localhost:8080/",
          "height": 136
        }
      },
      "source": [
        "!git clone https://github.com/swapniel99/ezio.git"
      ],
      "execution_count": 1,
      "outputs": [
        {
          "output_type": "stream",
          "text": [
            "Cloning into 'ezio'...\n",
            "remote: Enumerating objects: 85, done.\u001b[K\n",
            "remote: Counting objects: 100% (85/85), done.\u001b[K\n",
            "remote: Compressing objects: 100% (60/60), done.\u001b[K\n",
            "remote: Total 442 (delta 27), reused 63 (delta 16), pack-reused 357\u001b[K\n",
            "Receiving objects: 100% (442/442), 10.45 MiB | 11.63 MiB/s, done.\n",
            "Resolving deltas: 100% (172/172), done.\n"
          ],
          "name": "stdout"
        }
      ]
    },
    {
      "cell_type": "code",
      "metadata": {
        "id": "o0PJ54tcdJPA",
        "outputId": "9de484cc-d36f-423d-f268-4ee11c62f466",
        "colab": {
          "base_uri": "https://localhost:8080/",
          "height": 68
        }
      },
      "source": [
        "%cd ezio"
      ],
      "execution_count": 2,
      "outputs": [
        {
          "output_type": "stream",
          "text": [
            "/content/ezio\n",
            "Branch 'session_12' set up to track remote branch 'session_12' from 'origin'.\n",
            "Switched to a new branch 'session_12'\n"
          ],
          "name": "stdout"
        }
      ]
    },
    {
      "cell_type": "code",
      "metadata": {
        "id": "D7aUl-IYhqvb"
      },
      "source": [
        "import json \n",
        "import pandas as pd\n",
        "  \n",
        "## Read the json data\n",
        "data = json.load(open('datasets/yolo_dataset/coco_format.json'))"
      ],
      "execution_count": 3,
      "outputs": []
    },
    {
      "cell_type": "code",
      "metadata": {
        "id": "1ezj6aQ-hq3K"
      },
      "source": [
        "images_df = pd.DataFrame(data['images'], columns = data['images'][0].keys())\n",
        "annotations = pd.DataFrame(data['annotations'], columns = data['annotations'][0].keys())"
      ],
      "execution_count": 5,
      "outputs": []
    },
    {
      "cell_type": "code",
      "metadata": {
        "id": "QWbMoyQpi9qu",
        "outputId": "763ae75a-8f17-4077-ca95-ec1d46fec8d6",
        "colab": {
          "base_uri": "https://localhost:8080/",
          "height": 204
        }
      },
      "source": [
        "images_df.head()"
      ],
      "execution_count": 6,
      "outputs": [
        {
          "output_type": "execute_result",
          "data": {
            "text/html": [
              "<div>\n",
              "<style scoped>\n",
              "    .dataframe tbody tr th:only-of-type {\n",
              "        vertical-align: middle;\n",
              "    }\n",
              "\n",
              "    .dataframe tbody tr th {\n",
              "        vertical-align: top;\n",
              "    }\n",
              "\n",
              "    .dataframe thead th {\n",
              "        text-align: right;\n",
              "    }\n",
              "</style>\n",
              "<table border=\"1\" class=\"dataframe\">\n",
              "  <thead>\n",
              "    <tr style=\"text-align: right;\">\n",
              "      <th></th>\n",
              "      <th>id</th>\n",
              "      <th>width</th>\n",
              "      <th>height</th>\n",
              "      <th>file_name</th>\n",
              "      <th>license</th>\n",
              "      <th>date_captured</th>\n",
              "    </tr>\n",
              "  </thead>\n",
              "  <tbody>\n",
              "    <tr>\n",
              "      <th>0</th>\n",
              "      <td>1</td>\n",
              "      <td>768</td>\n",
              "      <td>432</td>\n",
              "      <td>image_72.png</td>\n",
              "      <td>0</td>\n",
              "      <td></td>\n",
              "    </tr>\n",
              "    <tr>\n",
              "      <th>1</th>\n",
              "      <td>2</td>\n",
              "      <td>600</td>\n",
              "      <td>421</td>\n",
              "      <td>image_134.jpg</td>\n",
              "      <td>0</td>\n",
              "      <td></td>\n",
              "    </tr>\n",
              "    <tr>\n",
              "      <th>2</th>\n",
              "      <td>3</td>\n",
              "      <td>321</td>\n",
              "      <td>500</td>\n",
              "      <td>image_144.jpg</td>\n",
              "      <td>0</td>\n",
              "      <td></td>\n",
              "    </tr>\n",
              "    <tr>\n",
              "      <th>3</th>\n",
              "      <td>4</td>\n",
              "      <td>1300</td>\n",
              "      <td>947</td>\n",
              "      <td>image_68.jpg</td>\n",
              "      <td>0</td>\n",
              "      <td></td>\n",
              "    </tr>\n",
              "    <tr>\n",
              "      <th>4</th>\n",
              "      <td>5</td>\n",
              "      <td>1300</td>\n",
              "      <td>956</td>\n",
              "      <td>image_90.jpg</td>\n",
              "      <td>0</td>\n",
              "      <td></td>\n",
              "    </tr>\n",
              "  </tbody>\n",
              "</table>\n",
              "</div>"
            ],
            "text/plain": [
              "   id  width  height      file_name  license date_captured\n",
              "0   1    768     432   image_72.png        0              \n",
              "1   2    600     421  image_134.jpg        0              \n",
              "2   3    321     500  image_144.jpg        0              \n",
              "3   4   1300     947   image_68.jpg        0              \n",
              "4   5   1300     956   image_90.jpg        0              "
            ]
          },
          "metadata": {
            "tags": []
          },
          "execution_count": 6
        }
      ]
    },
    {
      "cell_type": "code",
      "metadata": {
        "id": "xJP365Azi-uY",
        "outputId": "a7dbff97-0a30-49b6-dc5e-69bc409037bf",
        "colab": {
          "base_uri": "https://localhost:8080/",
          "height": 204
        }
      },
      "source": [
        "annotations.head()"
      ],
      "execution_count": 7,
      "outputs": [
        {
          "output_type": "execute_result",
          "data": {
            "text/html": [
              "<div>\n",
              "<style scoped>\n",
              "    .dataframe tbody tr th:only-of-type {\n",
              "        vertical-align: middle;\n",
              "    }\n",
              "\n",
              "    .dataframe tbody tr th {\n",
              "        vertical-align: top;\n",
              "    }\n",
              "\n",
              "    .dataframe thead th {\n",
              "        text-align: right;\n",
              "    }\n",
              "</style>\n",
              "<table border=\"1\" class=\"dataframe\">\n",
              "  <thead>\n",
              "    <tr style=\"text-align: right;\">\n",
              "      <th></th>\n",
              "      <th>segmentation</th>\n",
              "      <th>area</th>\n",
              "      <th>bbox</th>\n",
              "      <th>iscrowd</th>\n",
              "      <th>id</th>\n",
              "      <th>image_id</th>\n",
              "      <th>category_id</th>\n",
              "    </tr>\n",
              "  </thead>\n",
              "  <tbody>\n",
              "    <tr>\n",
              "      <th>0</th>\n",
              "      <td>[[105, -1, 546, -1, 546, 211, 105, 211]]</td>\n",
              "      <td>93492</td>\n",
              "      <td>[105, -1, 441, 212]</td>\n",
              "      <td>0</td>\n",
              "      <td>1</td>\n",
              "      <td>1</td>\n",
              "      <td>4</td>\n",
              "    </tr>\n",
              "    <tr>\n",
              "      <th>1</th>\n",
              "      <td>[[168, 192, 340, 192, 340, 381, 168, 381]]</td>\n",
              "      <td>32508</td>\n",
              "      <td>[168, 192, 172, 189]</td>\n",
              "      <td>0</td>\n",
              "      <td>2</td>\n",
              "      <td>1</td>\n",
              "      <td>1</td>\n",
              "    </tr>\n",
              "    <tr>\n",
              "      <th>2</th>\n",
              "      <td>[[244, 25, 363, 25, 363, 104, 244, 104]]</td>\n",
              "      <td>9401</td>\n",
              "      <td>[244, 25, 119, 79]</td>\n",
              "      <td>0</td>\n",
              "      <td>3</td>\n",
              "      <td>2</td>\n",
              "      <td>4</td>\n",
              "    </tr>\n",
              "    <tr>\n",
              "      <th>3</th>\n",
              "      <td>[[204, 171, 435, 171, 435, 400, 204, 400]]</td>\n",
              "      <td>52899</td>\n",
              "      <td>[204, 171, 231, 229]</td>\n",
              "      <td>0</td>\n",
              "      <td>4</td>\n",
              "      <td>2</td>\n",
              "      <td>3</td>\n",
              "    </tr>\n",
              "    <tr>\n",
              "      <th>4</th>\n",
              "      <td>[[137, 34, 194, 34, 194, 68, 137, 68]]</td>\n",
              "      <td>1938</td>\n",
              "      <td>[137, 34, 57, 34]</td>\n",
              "      <td>0</td>\n",
              "      <td>5</td>\n",
              "      <td>3</td>\n",
              "      <td>4</td>\n",
              "    </tr>\n",
              "  </tbody>\n",
              "</table>\n",
              "</div>"
            ],
            "text/plain": [
              "                                 segmentation   area  ... image_id  category_id\n",
              "0    [[105, -1, 546, -1, 546, 211, 105, 211]]  93492  ...        1            4\n",
              "1  [[168, 192, 340, 192, 340, 381, 168, 381]]  32508  ...        1            1\n",
              "2    [[244, 25, 363, 25, 363, 104, 244, 104]]   9401  ...        2            4\n",
              "3  [[204, 171, 435, 171, 435, 400, 204, 400]]  52899  ...        2            3\n",
              "4      [[137, 34, 194, 34, 194, 68, 137, 68]]   1938  ...        3            4\n",
              "\n",
              "[5 rows x 7 columns]"
            ]
          },
          "metadata": {
            "tags": []
          },
          "execution_count": 7
        }
      ]
    },
    {
      "cell_type": "code",
      "metadata": {
        "id": "DGHEZXfJjTDq",
        "outputId": "66b1afbb-9a00-4b53-be50-5c23be1a7602",
        "colab": {
          "base_uri": "https://localhost:8080/",
          "height": 204
        }
      },
      "source": [
        "## Preprocess the annotations file\n",
        "bbox_w = []\n",
        "bbox_h = []\n",
        "\n",
        "bbox_list = list(annotations['bbox'])\n",
        "for bbox in bbox_list:\n",
        "    bbox_w.append(bbox[2])\n",
        "    bbox_h.append(bbox[3])\n",
        "\n",
        "\n",
        "annotate_df = pd.DataFrame(list(zip(bbox_w, bbox_h)), columns =['bbox_w', 'bbox_h'])\n",
        "annotate_df['id'] = annotations['image_id']\n",
        "annotate_df.head()"
      ],
      "execution_count": 8,
      "outputs": [
        {
          "output_type": "execute_result",
          "data": {
            "text/html": [
              "<div>\n",
              "<style scoped>\n",
              "    .dataframe tbody tr th:only-of-type {\n",
              "        vertical-align: middle;\n",
              "    }\n",
              "\n",
              "    .dataframe tbody tr th {\n",
              "        vertical-align: top;\n",
              "    }\n",
              "\n",
              "    .dataframe thead th {\n",
              "        text-align: right;\n",
              "    }\n",
              "</style>\n",
              "<table border=\"1\" class=\"dataframe\">\n",
              "  <thead>\n",
              "    <tr style=\"text-align: right;\">\n",
              "      <th></th>\n",
              "      <th>bbox_w</th>\n",
              "      <th>bbox_h</th>\n",
              "      <th>id</th>\n",
              "    </tr>\n",
              "  </thead>\n",
              "  <tbody>\n",
              "    <tr>\n",
              "      <th>0</th>\n",
              "      <td>441</td>\n",
              "      <td>212</td>\n",
              "      <td>1</td>\n",
              "    </tr>\n",
              "    <tr>\n",
              "      <th>1</th>\n",
              "      <td>172</td>\n",
              "      <td>189</td>\n",
              "      <td>1</td>\n",
              "    </tr>\n",
              "    <tr>\n",
              "      <th>2</th>\n",
              "      <td>119</td>\n",
              "      <td>79</td>\n",
              "      <td>2</td>\n",
              "    </tr>\n",
              "    <tr>\n",
              "      <th>3</th>\n",
              "      <td>231</td>\n",
              "      <td>229</td>\n",
              "      <td>2</td>\n",
              "    </tr>\n",
              "    <tr>\n",
              "      <th>4</th>\n",
              "      <td>57</td>\n",
              "      <td>34</td>\n",
              "      <td>3</td>\n",
              "    </tr>\n",
              "  </tbody>\n",
              "</table>\n",
              "</div>"
            ],
            "text/plain": [
              "   bbox_w  bbox_h  id\n",
              "0     441     212   1\n",
              "1     172     189   1\n",
              "2     119      79   2\n",
              "3     231     229   2\n",
              "4      57      34   3"
            ]
          },
          "metadata": {
            "tags": []
          },
          "execution_count": 8
        }
      ]
    },
    {
      "cell_type": "code",
      "metadata": {
        "id": "cE5zHSc7lNpo",
        "outputId": "f406a1d5-1d6b-47b3-c06e-30b9f89649f6",
        "colab": {
          "base_uri": "https://localhost:8080/",
          "height": 204
        }
      },
      "source": [
        "## Concat the two files\n",
        "final_df = pd.merge(images_df[['width','height','file_name','id']], annotate_df, on='id')\n",
        "final_df.head()"
      ],
      "execution_count": 9,
      "outputs": [
        {
          "output_type": "execute_result",
          "data": {
            "text/html": [
              "<div>\n",
              "<style scoped>\n",
              "    .dataframe tbody tr th:only-of-type {\n",
              "        vertical-align: middle;\n",
              "    }\n",
              "\n",
              "    .dataframe tbody tr th {\n",
              "        vertical-align: top;\n",
              "    }\n",
              "\n",
              "    .dataframe thead th {\n",
              "        text-align: right;\n",
              "    }\n",
              "</style>\n",
              "<table border=\"1\" class=\"dataframe\">\n",
              "  <thead>\n",
              "    <tr style=\"text-align: right;\">\n",
              "      <th></th>\n",
              "      <th>width</th>\n",
              "      <th>height</th>\n",
              "      <th>file_name</th>\n",
              "      <th>id</th>\n",
              "      <th>bbox_w</th>\n",
              "      <th>bbox_h</th>\n",
              "    </tr>\n",
              "  </thead>\n",
              "  <tbody>\n",
              "    <tr>\n",
              "      <th>0</th>\n",
              "      <td>768</td>\n",
              "      <td>432</td>\n",
              "      <td>image_72.png</td>\n",
              "      <td>1</td>\n",
              "      <td>441</td>\n",
              "      <td>212</td>\n",
              "    </tr>\n",
              "    <tr>\n",
              "      <th>1</th>\n",
              "      <td>768</td>\n",
              "      <td>432</td>\n",
              "      <td>image_72.png</td>\n",
              "      <td>1</td>\n",
              "      <td>172</td>\n",
              "      <td>189</td>\n",
              "    </tr>\n",
              "    <tr>\n",
              "      <th>2</th>\n",
              "      <td>600</td>\n",
              "      <td>421</td>\n",
              "      <td>image_134.jpg</td>\n",
              "      <td>2</td>\n",
              "      <td>119</td>\n",
              "      <td>79</td>\n",
              "    </tr>\n",
              "    <tr>\n",
              "      <th>3</th>\n",
              "      <td>600</td>\n",
              "      <td>421</td>\n",
              "      <td>image_134.jpg</td>\n",
              "      <td>2</td>\n",
              "      <td>231</td>\n",
              "      <td>229</td>\n",
              "    </tr>\n",
              "    <tr>\n",
              "      <th>4</th>\n",
              "      <td>321</td>\n",
              "      <td>500</td>\n",
              "      <td>image_144.jpg</td>\n",
              "      <td>3</td>\n",
              "      <td>57</td>\n",
              "      <td>34</td>\n",
              "    </tr>\n",
              "  </tbody>\n",
              "</table>\n",
              "</div>"
            ],
            "text/plain": [
              "   width  height      file_name  id  bbox_w  bbox_h\n",
              "0    768     432   image_72.png   1     441     212\n",
              "1    768     432   image_72.png   1     172     189\n",
              "2    600     421  image_134.jpg   2     119      79\n",
              "3    600     421  image_134.jpg   2     231     229\n",
              "4    321     500  image_144.jpg   3      57      34"
            ]
          },
          "metadata": {
            "tags": []
          },
          "execution_count": 9
        }
      ]
    },
    {
      "cell_type": "code",
      "metadata": {
        "id": "RZH8YS7vlvAR"
      },
      "source": [
        "## Normalize the parameters\n",
        "final_df['bbox_w'] = final_df['bbox_w']/final_df['width']\n",
        "final_df['bbox_h'] = final_df['bbox_h']/final_df['height']\n",
        "\n",
        "final_df = final_df[['bbox_w','bbox_h']]\n",
        "final_df = final_df.dropna()"
      ],
      "execution_count": 11,
      "outputs": []
    },
    {
      "cell_type": "code",
      "metadata": {
        "id": "zPEOLQO_mJsk",
        "outputId": "d1fc8bae-59ee-40a1-ea00-ad9ea2e90525",
        "colab": {
          "base_uri": "https://localhost:8080/",
          "height": 221
        }
      },
      "source": [
        "print(final_df.shape)\n",
        "final_df.head()"
      ],
      "execution_count": 12,
      "outputs": [
        {
          "output_type": "stream",
          "text": [
            "(343, 2)\n"
          ],
          "name": "stdout"
        },
        {
          "output_type": "execute_result",
          "data": {
            "text/html": [
              "<div>\n",
              "<style scoped>\n",
              "    .dataframe tbody tr th:only-of-type {\n",
              "        vertical-align: middle;\n",
              "    }\n",
              "\n",
              "    .dataframe tbody tr th {\n",
              "        vertical-align: top;\n",
              "    }\n",
              "\n",
              "    .dataframe thead th {\n",
              "        text-align: right;\n",
              "    }\n",
              "</style>\n",
              "<table border=\"1\" class=\"dataframe\">\n",
              "  <thead>\n",
              "    <tr style=\"text-align: right;\">\n",
              "      <th></th>\n",
              "      <th>bbox_w</th>\n",
              "      <th>bbox_h</th>\n",
              "    </tr>\n",
              "  </thead>\n",
              "  <tbody>\n",
              "    <tr>\n",
              "      <th>0</th>\n",
              "      <td>0.574219</td>\n",
              "      <td>0.490741</td>\n",
              "    </tr>\n",
              "    <tr>\n",
              "      <th>1</th>\n",
              "      <td>0.223958</td>\n",
              "      <td>0.437500</td>\n",
              "    </tr>\n",
              "    <tr>\n",
              "      <th>2</th>\n",
              "      <td>0.198333</td>\n",
              "      <td>0.187648</td>\n",
              "    </tr>\n",
              "    <tr>\n",
              "      <th>3</th>\n",
              "      <td>0.385000</td>\n",
              "      <td>0.543943</td>\n",
              "    </tr>\n",
              "    <tr>\n",
              "      <th>4</th>\n",
              "      <td>0.177570</td>\n",
              "      <td>0.068000</td>\n",
              "    </tr>\n",
              "  </tbody>\n",
              "</table>\n",
              "</div>"
            ],
            "text/plain": [
              "     bbox_w    bbox_h\n",
              "0  0.574219  0.490741\n",
              "1  0.223958  0.437500\n",
              "2  0.198333  0.187648\n",
              "3  0.385000  0.543943\n",
              "4  0.177570  0.068000"
            ]
          },
          "metadata": {
            "tags": []
          },
          "execution_count": 12
        }
      ]
    },
    {
      "cell_type": "code",
      "metadata": {
        "id": "wZMQuyp-mLYN",
        "outputId": "4119fc0b-ce4e-4d62-ae5d-8dac605ee829",
        "colab": {
          "base_uri": "https://localhost:8080/",
          "height": 282
        }
      },
      "source": [
        "## Visualize the data\n",
        "import matplotlib.pyplot as plt\n",
        "plt.plot(final_df['bbox_w'],final_df['bbox_h'], '.')"
      ],
      "execution_count": 13,
      "outputs": [
        {
          "output_type": "execute_result",
          "data": {
            "text/plain": [
              "[<matplotlib.lines.Line2D at 0x7fe8aa461ba8>]"
            ]
          },
          "metadata": {
            "tags": []
          },
          "execution_count": 13
        },
        {
          "output_type": "display_data",
          "data": {
            "image/png": "[encoded data removed]",
            "text/plain": [
              "<Figure size 432x288 with 1 Axes>"
            ]
          },
          "metadata": {
            "tags": [],
            "needs_background": "light"
          }
        }
      ]
    },
    {
      "cell_type": "code",
      "metadata": {
        "id": "AFsJ_y35pzsm",
        "outputId": "ceca97b0-430e-491e-e4f6-3cef75a9084d",
        "colab": {
          "base_uri": "https://localhost:8080/",
          "height": 282
        }
      },
      "source": [
        "## Plot the log of the data points\n",
        "import numpy as np\n",
        "plt.plot(np.log(final_df['bbox_w']),np.log(final_df['bbox_h']), '.')"
      ],
      "execution_count": 14,
      "outputs": [
        {
          "output_type": "execute_result",
          "data": {
            "text/plain": [
              "[<matplotlib.lines.Line2D at 0x7fe8a9fb2320>]"
            ]
          },
          "metadata": {
            "tags": []
          },
          "execution_count": 14
        },
        {
          "output_type": "display_data",
          "data": {
            "image/png": "[encoded data removed]",
            "text/plain": [
              "<Figure size 432x288 with 1 Axes>"
            ]
          },
          "metadata": {
            "tags": [],
            "needs_background": "light"
          }
        }
      ]
    },
    {
      "cell_type": "code",
      "metadata": {
        "id": "rplUlHwbqPJs",
        "outputId": "c2fd0e95-01c7-4556-f437-e06404501285",
        "colab": {
          "base_uri": "https://localhost:8080/",
          "height": 295
        }
      },
      "source": [
        "## Elbow method\n",
        "from sklearn.cluster import KMeans\n",
        "from sklearn import metrics\n",
        "from scipy.spatial.distance import cdist\n",
        "import numpy as np\n",
        "import matplotlib.pyplot as plt\n",
        "\n",
        "wcss = []\n",
        "for i in range(1, 11):\n",
        "    kmeans = KMeans(n_clusters=i, init='k-means++', max_iter=300, n_init=10, random_state=0)\n",
        "    kmeans.fit(final_df)\n",
        "    wcss.append(kmeans.inertia_)\n",
        "plt.plot(range(1, 11), wcss)\n",
        "plt.title('Elbow Method')\n",
        "plt.xlabel('Number of clusters')\n",
        "plt.ylabel('WCSS')\n",
        "plt.show()"
      ],
      "execution_count": 15,
      "outputs": [
        {
          "output_type": "display_data",
          "data": {
            "image/png": "[encoded data removed]",
            "text/plain": [
              "<Figure size 432x288 with 1 Axes>"
            ]
          },
          "metadata": {
            "tags": [],
            "needs_background": "light"
          }
        }
      ]
    },
    {
      "cell_type": "markdown",
      "metadata": {
        "id": "h7IorH4zsXEM"
      },
      "source": [
        "## Optimal Number of Clusters : 4"
      ]
    },
    {
      "cell_type": "code",
      "metadata": {
        "id": "K0b8vKh9tt8E"
      },
      "source": [
        "import numpy as np\n",
        "array_points = np.array(final_df)"
      ],
      "execution_count": 16,
      "outputs": []
    },
    {
      "cell_type": "code",
      "metadata": {
        "id": "pMBl26kmsZqn",
        "outputId": "47d15ee0-2101-480d-814c-5be0135f804b",
        "colab": {
          "base_uri": "https://localhost:8080/",
          "height": 296
        }
      },
      "source": [
        "model = KMeans(4)\n",
        "model.fit(array_points)\n",
        "\n",
        "plt.scatter(model.cluster_centers_[:,0] ,model.cluster_centers_[:,1], color='red',s = 100,marker = 'o', label='centroids')\n",
        "plt.scatter(list(final_df['bbox_w']), list(final_df['bbox_h']), marker=\"v\",c=list(model.labels_.astype(float)), label = \"data\")\n",
        "plt.legend()\n",
        "plt.xlabel('bbox_w')\n",
        "plt.ylabel('bbox_h')\n",
        "plt.title('K Means for k = 3')\n",
        "plt.legend()\n",
        "plt.show()"
      ],
      "execution_count": 17,
      "outputs": [
        {
          "output_type": "display_data",
          "data": {
            "image/png": "[encoded data removed]",
            "text/plain": [
              "<Figure size 432x288 with 1 Axes>"
            ]
          },
          "metadata": {
            "tags": [],
            "needs_background": "light"
          }
        }
      ]
    }
  ]
}